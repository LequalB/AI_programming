{
  "nbformat": 4,
  "nbformat_minor": 0,
  "metadata": {
    "colab": {
      "provenance": []
    },
    "kernelspec": {
      "name": "python3",
      "display_name": "Python 3"
    },
    "language_info": {
      "name": "python"
    }
  },
  "cells": [
    {
      "cell_type": "code",
      "execution_count": 1,
      "metadata": {
        "id": "MQBrHJ2BiAhC"
      },
      "outputs": [],
      "source": [
        "# Prepare Mini-MNIST Dataset(Data Preprocessing)\n",
        "import numpy as np\n",
        "from sklearn.datasets import load_digits\n",
        "from sklearn.model_selection import train_test_split\n",
        "from sklearn.preprocessing import StandardScaler\n",
        "import matplotlib.pyplot as plt\n",
        "\n",
        "digits = load_digits()\n",
        "\n",
        "# digits.data from sklearn contains 1797 images of 8x8 pixels\n",
        "# Each image has a hand-written digit\n",
        "digits_df = digits.images.reshape((len(digits.target), -1))\n",
        "digits_tf = digits.target\n",
        "\n",
        "# Splitting dataframe into train & test\n",
        "X_train_org, X_test_org, y_train_num, y_test = train_test_split(digits_df, digits_tf, test_size= 0.20, random_state= 101)\n",
        "\n",
        "# Digits data has range of [0,16], which often lead too big exponential values\n",
        "# so make them normal distribution of [0,1] with the sklearn package, or you can just divide them by 16\n",
        "sc = StandardScaler()\n",
        "X_train = sc.fit_transform(X_train_org)\n",
        "X_test = sc.transform(X_test_org)\n",
        "\n",
        "n_classes = 10\n",
        "\n",
        "# Transform Nx1 Y vector into Nx10 answer vector, so that we can perform one-to-all classification\n",
        "y_train = np.zeros((y_train_num.shape[0],10))\n",
        "for i in range(n_classes):\n",
        "    y_train[:,i] = (y_train_num == i)"
      ]
    },
    {
      "cell_type": "code",
      "source": [
        "# Activation function for forward path\n",
        "def sigmoid(x): #sigmoid function\n",
        "    # Numerically stable with large exponentials\n",
        "    x = np.where(x < 0, np.exp(x)/(1 + np.exp(x)), 1/(1 + np.exp(-x)))\n",
        "    return x\n",
        "\n",
        "def softmax(x): #softmax function\n",
        "    # Numerically stable with large exponentials\n",
        "    x = x - np.max(x, axis=-1, keepdims=True)\n",
        "    x = np.exp(x)\n",
        "    xs = np.sum(x, axis=-1, keepdims=True)\n",
        "    return x / xs"
      ],
      "metadata": {
        "id": "egLKgPrJiHFd"
      },
      "execution_count": 2,
      "outputs": []
    },
    {
      "cell_type": "code",
      "source": [
        "# check the data in the preprocessed data set\n",
        "print(digits_df.shape)\n",
        "print(X_train.shape)\n",
        "print(y_train.shape)\n",
        "print(X_train_org[0])\n",
        "\n",
        "idx = np.random.randint(X_train.shape[0])\n",
        "dimage = X_train_org[idx].reshape((8,8))\n",
        "# plt.figure(figsize=(4.32, 2.88))  # Adjust the width and height as needed\n",
        "plt.gray()\n",
        "plt.matshow(dimage)\n",
        "plt.show()\n",
        "print('The number is', y_train_num[idx])  # the number that is predicted\n"
      ],
      "metadata": {
        "colab": {
          "base_uri": "https://localhost:8080/",
          "height": 602
        },
        "id": "Zt-ETlFtiJKP",
        "outputId": "4273f066-809b-4389-fca0-06a67362332a"
      },
      "execution_count": 3,
      "outputs": [
        {
          "output_type": "stream",
          "name": "stdout",
          "text": [
            "(1797, 64)\n",
            "(1437, 64)\n",
            "(1437, 10)\n",
            "[ 0.  0.  0.  9. 16.  6.  0.  0.  0.  0.  4. 15.  6. 15.  0.  0.  0.  0.\n",
            "  8. 11.  9. 11.  0.  0.  0.  0.  8. 16. 14.  2.  0.  0.  0.  0. 11. 16.\n",
            " 13.  0.  0.  0.  0.  6. 14.  2. 12.  9.  0.  0.  0.  5. 16. 11.  5. 13.\n",
            "  4.  0.  0.  0.  3.  8. 13. 16.  9.  0.]\n"
          ]
        },
        {
          "output_type": "display_data",
          "data": {
            "text/plain": [
              "<Figure size 640x480 with 0 Axes>"
            ]
          },
          "metadata": {}
        },
        {
          "output_type": "display_data",
          "data": {
            "text/plain": [
              "<Figure size 480x480 with 1 Axes>"
            ],
            "image/png": "[encoded data removed]"
          },
          "metadata": {}
        },
        {
          "output_type": "stream",
          "name": "stdout",
          "text": [
            "The number is 8\n"
          ]
        }
      ]
    },
    {
      "cell_type": "code",
      "source": [
        "# Define Model class (Linear prediction for each function (forward,backward))\n",
        "class myDenseLayer:\n",
        "    def __init__(self, n_out, n_in):\n",
        "        self.wegt = np.zeros((n_out, n_in))\n",
        "        self.bias = np.zeros((n_out))\n",
        "\n",
        "    def forward(self, x):       # (b, i)\n",
        "        ### START CODE HERE ###\n",
        "\n",
        "        x_lin = (self.wegt @x.T).T + self.bias  # Linear Prediction\n",
        "\n",
        "        ### END CODE HERE ###\n",
        "        return x_lin\n",
        "\n",
        "    def backward(self, x, x_in):  # x = dJ/dz (b, c)\n",
        "        ### START CODE HERE ###\n",
        "        m = x.shape[1]  # the total number\n",
        "        dw = (x.T @ x_in)/m  # Gradients for weights\n",
        "        db = (np.sum(x, axis=0))/m  # Gradients for biases\n",
        "        wdJdz =  x @ self.wegt # Propagation for lower layer\n",
        "\n",
        "        ### END CODE HERE ###\n",
        "        return dw, db, wdJdz\n"
      ],
      "metadata": {
        "id": "6SQbzNcuiLIc"
      },
      "execution_count": 4,
      "outputs": []
    },
    {
      "cell_type": "code",
      "source": [
        "# Code for checking backward path process\n",
        "np.random.seed(0)\n",
        "\n",
        "tmp2 = myDenseLayer(2,5)\n",
        "tmp2.wegt = np.random.randn(2,5)\n",
        "tmp2.bias = np.random.randn(2)\n",
        "\n",
        "x_in_t = np.random.randn(2,5)\n",
        "x_t = np.random.randn(2,2)\n",
        "\n",
        "dw2, db2, wdJdz2 = tmp2.backward(x_t,x_in_t)\n",
        "\n",
        "print(f\"x_t = \\n{x_t}\")\n",
        "print(f\"dw2 = \\n{dw2}\")\n",
        "print(f\"db2 = \\n{db2}\")\n",
        "print(f\"wdJdz2 = \\n{wdJdz2}\")"
      ],
      "metadata": {
        "colab": {
          "base_uri": "https://localhost:8080/"
        },
        "id": "zfFLlJ7XLmbR",
        "outputId": "39939627-38bf-4b49-a9f0-a2d4f8c143cd"
      },
      "execution_count": 5,
      "outputs": [
        {
          "output_type": "stream",
          "name": "stdout",
          "text": [
            "x_t = \n",
            "[[ 0.8644362  -0.74216502]\n",
            " [ 2.26975462 -1.45436567]]\n",
            "dw2 = \n",
            "[[ 0.09610482  0.40788358 -0.77744815 -2.75311014  1.38754493]\n",
            " [-0.13322022 -0.27280893  0.45637388  1.73266967 -1.02972684]]\n",
            "db2 = \n",
            "[ 1.56709541 -1.09826535]\n",
            "wdJdz2 = \n",
            "[[ 2.25021216 -0.35921201  0.95838857  2.01371462  1.30965288]\n",
            " [ 5.42528537 -0.47351731  2.44162379  5.23639566  3.64173802]]\n"
          ]
        }
      ]
    },
    {
      "cell_type": "code",
      "source": [
        "# activation functions for the backpropagation.\n",
        "def dJdz_sigmoid(wdJdz_upper, az):   # sigmoid function for backward\n",
        "    dJdz = wdJdz_upper * az * (1 - az)\n",
        "    return dJdz\n",
        "\n",
        "def dJdz_softmax(y_hat, y):\n",
        "    dJdz = y_hat - y   # softmax function for backward\n",
        "    return dJdz"
      ],
      "metadata": {
        "id": "0UtyVgaxiOy7"
      },
      "execution_count": 6,
      "outputs": []
    },
    {
      "cell_type": "code",
      "source": [
        "# Define Training Functions\n",
        "def my_forward(layers, X_in):\n",
        "    l1, l2, l3 = layers\n",
        "    ### START CODE HERE ###\n",
        "\n",
        "    a_1 = sigmoid(l1.forward(X_in))                   # first stage forward\n",
        "    a_2 = sigmoid(l2.forward(a_1))                    # second stage forward\n",
        "    a_3 = softmax(l3.forward(a_2))                    # third stage forward\n",
        "\n",
        "    ### END CODE HERE ###\n",
        "    return a_1, a_2, a_3\n",
        "\n",
        "def my_backward(layers, a_1, a_2, a_3, X_in, y_true):\n",
        "    l1, l2, l3 = layers\n",
        "    ### START CODE HERE ###\n",
        "\n",
        "    dw_3, db_3, wdJdz_3 = l3.backward(dJdz_softmax(a_3, y_true), a_2)  # go through 3rd stage backward\n",
        "    dw_2, db_2, wdJdz_2 = l2.backward(dJdz_sigmoid(wdJdz_3, a_2), a_1)  # go through 2nd stage backward\n",
        "    dw_1, db_1, _ = l1.backward(dJdz_sigmoid(wdJdz_2, a_1), X_in)     # go through 1st stage backward\n",
        "\n",
        "    ### END CODE HERE ###\n",
        "    d_1 = [dw_1, db_1]\n",
        "    d_2 = [dw_2, db_2]\n",
        "    d_3 = [dw_3, db_3]\n",
        "    return d_1, d_2, d_3\n",
        "\n",
        "def my_loss(layers, X_in, y_true):\n",
        "    l1, l2, l3 = layers\n",
        "    ### START CODE HERE ###\n",
        "\n",
        "    a_1, a_2, a_3 = my_forward(layers, X_in)\n",
        "    loss = -np.mean(np.sum(y_true * np.log(a_3), axis=1))  # calculate loss\n",
        "\n",
        "    ### END CODE HERE ###\n",
        "    return loss\n",
        "\n",
        "def my_predict(layers, X_in):\n",
        "    l1, l2, l3 = layers\n",
        "    ### START CODE HERE ###\n",
        "\n",
        "    a_1, a_2, a_3 = my_forward(layers, X_in)\n",
        "    pred = np.argmax(a_3, axis=1)  # make prediction\n",
        "\n",
        "    ### END CODE HERE ###\n",
        "    return pred\n"
      ],
      "metadata": {
        "id": "Hl_4gp6wRASL"
      },
      "execution_count": 7,
      "outputs": []
    },
    {
      "cell_type": "code",
      "source": [
        "# set the parameters of each layer.\n",
        "n_inputs  = 64\n",
        "n_hidden1 = 80\n",
        "n_hidden2 = 70\n",
        "n_classes = 10\n",
        "\n",
        "l1 = myDenseLayer(n_hidden1, n_inputs)\n",
        "l2 = myDenseLayer(n_hidden2, n_hidden1)\n",
        "l3 = myDenseLayer(n_classes, n_hidden2)\n",
        "\n",
        "layers = [l1, l2, l3]\n",
        "print(X_train.shape, y_train.shape)\n",
        "print(l1.wegt.shape, l1.bias.shape)\n",
        "print(l2.wegt.shape, l2.bias.shape)\n",
        "print(l3.wegt.shape, l3.bias.shape)"
      ],
      "metadata": {
        "colab": {
          "base_uri": "https://localhost:8080/"
        },
        "id": "GBiUzy-IiS__",
        "outputId": "3544b2f5-c2ca-4575-8608-33bed7b09f13"
      },
      "execution_count": 8,
      "outputs": [
        {
          "output_type": "stream",
          "name": "stdout",
          "text": [
            "(1437, 64) (1437, 10)\n",
            "(80, 64) (80,)\n",
            "(70, 80) (70,)\n",
            "(10, 70) (10,)\n"
          ]
        }
      ]
    },
    {
      "cell_type": "code",
      "source": [
        "# Initialize the weights\n",
        "l1.wegt = np.random.randn(n_hidden1, n_inputs)\n",
        "l2.wegt = np.random.randn(n_hidden2, n_hidden1)\n",
        "l3.wegt = np.random.randn(n_classes, n_hidden2)"
      ],
      "metadata": {
        "id": "Egx6llpziVCL"
      },
      "execution_count": 9,
      "outputs": []
    },
    {
      "cell_type": "code",
      "source": [
        "# Define a function for Splitting Dataset into mini-Batches (create_mini_batch)\n",
        "def create_mini_batches(X, y, batch_size=64):\n",
        "    mini_batches = []\n",
        "    n_minibatches = X.shape[0] // batch_size  # the number of minibatches\n",
        "    n_variables = X.shape[1]  # the number of variables\n",
        "\n",
        "    data = np.hstack((X, y))\n",
        "    np.random.shuffle(data)\n",
        "    # uee the loop for trainig the entire dataset (the whole batch is epoch)\n",
        "    for i in range(n_minibatches):\n",
        "        start_idx = i * batch_size\n",
        "        end_idx = (i + 1) * batch_size\n",
        "        mini_batch = data[start_idx:end_idx]\n",
        "\n",
        "        X_mini = mini_batch[:, :n_variables]  # split the datset\n",
        "        y_mini = mini_batch[:, n_variables:]\n",
        "        mini_batches.append((X_mini, y_mini)) # append by the end of the dataset\n",
        "\n",
        "    if data.shape[0] % batch_size != 0:\n",
        "        remaining_data = data[n_minibatches * batch_size:]\n",
        "        X_mini = remaining_data[:, :n_variables]  # split the datset\n",
        "        y_mini = remaining_data[:, n_variables:]\n",
        "        mini_batches.append((X_mini, y_mini)) # append by the end of the dataset\n",
        "\n",
        "    return mini_batches\n"
      ],
      "metadata": {
        "id": "tFW1Bb_0RZ-r"
      },
      "execution_count": 10,
      "outputs": []
    },
    {
      "cell_type": "markdown",
      "source": [],
      "metadata": {
        "id": "Vz0F95uX4siO"
      }
    },
    {
      "cell_type": "code",
      "source": [
        "# check the result of the 'create_mini_batches' function\n",
        "np.random.seed(1)\n",
        "\n",
        "a = np.arange(20).reshape(10,2)\n",
        "b = -np.arange(10,20).reshape(10,1)\n",
        "# check the function(create_mini_batches)\n",
        "c = create_mini_batches(a, b, 4)\n",
        "for mini_X, mini_y in c:\n",
        "    print(mini_X)\n",
        "    print(mini_y, '\\n')\n"
      ],
      "metadata": {
        "colab": {
          "base_uri": "https://localhost:8080/"
        },
        "id": "M1tUozwqiY5G",
        "outputId": "f0b7f622-e595-4904-c195-bc7474789f7e"
      },
      "execution_count": 11,
      "outputs": [
        {
          "output_type": "stream",
          "name": "stdout",
          "text": [
            "[[ 4  5]\n",
            " [18 19]\n",
            " [12 13]\n",
            " [ 8  9]]\n",
            "[[-12]\n",
            " [-19]\n",
            " [-16]\n",
            " [-14]] \n",
            "\n",
            "[[ 0  1]\n",
            " [ 6  7]\n",
            " [ 2  3]\n",
            " [14 15]]\n",
            "[[-10]\n",
            " [-13]\n",
            " [-11]\n",
            " [-17]] \n",
            "\n",
            "[[16 17]\n",
            " [10 11]]\n",
            "[[-18]\n",
            " [-15]] \n",
            "\n"
          ]
        }
      ]
    },
    {
      "cell_type": "code",
      "source": [
        "# Define Various Optimizers\n",
        "class myOptParam:\n",
        "    def __init__(self, n_out, n_in):\n",
        "        # Previoud delta values for momentum optimizer\n",
        "        self.W_dt = np.zeros((n_out, n_in))\n",
        "        self.B_dt = np.zeros(n_out)\n",
        "        # Variables for other optimizers\n",
        "        self.W_mt = np.zeros((n_out, n_in))\n",
        "        self.B_mt = np.zeros(n_out)\n",
        "        self.W_vt = np.zeros((n_out, n_in))\n",
        "        self.B_vt = np.zeros(n_out)\n",
        "# optimizer functions (sgd, momentum, adagrad, rmsprop, adam)\n",
        "def my_optimizer(lyr, opt, W_grad, B_grad, solver='sgd', learning_rate=0.01, iter=1):\n",
        "    epsilon = 1e-8  # arbitrary small number\n",
        "    alpha = eta = learning_rate\n",
        "    if iter==0:\n",
        "        print('iteration should start from 1.')\n",
        "\n",
        "    # optimizer routines\n",
        "    if  solver=='sgd':  # Stochastic Gradient\n",
        "        W_dlt = alpha * W_grad\n",
        "        B_dlt = alpha * B_grad\n",
        "    elif solver=='momentum':   # SGD with momentum\n",
        "        gamma = 0.9               # default setting\n",
        "        ### START CODE HERE ###\n",
        "\n",
        "        W_dlt = alpha * W_grad + gamma * opt.W_dt  # momentum for previous delta\n",
        "        B_dlt = alpha * B_grad + gamma * opt.B_dt # same goes for bias\n",
        "        opt.W_dt = W_dlt # keep data for later use\n",
        "        opt.B_dt = B_dlt # for bias, too\n",
        "\n",
        "\n",
        "        ### END CODE HERE ###\n",
        "    elif solver=='adagrad':   # AdaGrad\n",
        "        ### START CODE HERE ###\n",
        "        opt.W_vt += W_grad ** 2 # accumulate delta square (2nd momentum\n",
        "        opt.B_vt += B_grad ** 2 # accumulater for bias term\n",
        "        W_dlt = (alpha / (np.sqrt(opt.W_vt) + epsilon)) * W_grad # calculate new delta for weight\n",
        "        B_dlt = (alpha / (np.sqrt(opt.B_vt) + epsilon)) * B_grad # and for bias\n",
        "    elif solver=='rmsprop':   # rmsprop\n",
        "        beta2 = 0.9               # default setting\n",
        "        ### START CODE HERE ###\n",
        "\n",
        "        opt.W_vt = beta2 * opt.W_vt + (1 - beta2) * W_grad ** 2 # blending with second momentum\n",
        "        opt.B_vt = beta2 * opt.B_vt + (1 - beta2) * B_grad ** 2 # also doging samething for bias\n",
        "        W_dlt = (alpha / (np.sqrt(opt.W_vt) + epsilon)) * W_grad  # calculate new delta for weight\n",
        "        B_dlt = (alpha / (np.sqrt(opt.B_vt) + epsilon)) * B_grad  # and for bias\n",
        "        ### END CODE HERE ###\n",
        "    elif solver=='adam':  # adam\n",
        "        beta1, beta2 = 0.9, 0.99  # default setting\n",
        "        ### START CODE HERE ###\n",
        "\n",
        "        opt.W_mt = beta1 * opt.W_mt + (1 - beta1) * W_grad  # blending with first momentum\n",
        "        opt.B_mt = beta1 * opt.B_mt + (1 - beta1) * B_grad  # first momentum for bias\n",
        "        opt.W_vt = beta2 * opt.W_vt + (1 - beta2) * W_grad ** 2 # blending with second momentum\n",
        "        opt.B_vt = beta2 * opt.B_vt + (1 - beta2) * B_grad ** 2 # second momentum for bias\n",
        "        W_mc = opt.W_mt / (1 - beta1 ** iter) # bias correction of first momentum for weight\n",
        "        B_mc = opt.B_mt / (1 - beta1 ** iter) # and for bias term\n",
        "        W_vc = opt.W_vt / (1 - beta2 ** iter) # bias correction of second momentum for weight\n",
        "        B_vc = opt.B_vt / (1 - beta2 ** iter) # and for bias term\n",
        "        W_dlt = (alpha / (np.sqrt(W_vc) + epsilon)) * W_mc  # calculate new delat for weight\n",
        "        B_dlt = (alpha / (np.sqrt(B_vc) + epsilon)) * B_mc   # and for bias\n",
        "\n",
        "        ### END CODE HERE ###\n",
        "    else:\n",
        "        print('optimizer error')\n",
        "\n",
        "    # Adjust weight\n",
        "    lyr.wegt = lyr.wegt - W_dlt\n",
        "    lyr.bias = lyr.bias - B_dlt\n",
        "\n",
        "    return"
      ],
      "metadata": {
        "id": "u84x6AClid59"
      },
      "execution_count": 12,
      "outputs": []
    },
    {
      "cell_type": "code",
      "source": [
        "# Optimizer Test\n",
        "np.random.seed(1)\n",
        "\n",
        "lyr = myDenseLayer(2,3)\n",
        "opt = myOptParam(2,3)\n",
        "\n",
        "lyr.wegt = np.random.randn(2,3)\n",
        "lyr.bias = np.random.randn(2)\n",
        "opt.W_dt = np.random.randn(2,3)\n",
        "opt.B_dt = np.random.randn(2)\n",
        "opt.W_mt = np.random.randn(2,3)\n",
        "opt.B_mt = np.random.randn(2)\n",
        "opt.W_vt = np.abs(np.random.randn(2,3))\n",
        "opt.B_vt = np.abs(np.random.randn(2))\n",
        "\n",
        "W_grad = np.random.randn(2,3)\n",
        "B_grad = np.random.randn(2)\n",
        "\n",
        "# optimizer settings are: 'sgd', 'momentum', 'adagrad', 'rmsprop', 'adam'\n",
        "#Check comment on/off as appropriate\n",
        "\n",
        "my_optimizer(lyr, opt, W_grad, B_grad, 'sgd', 10, 3)\n",
        "print(\"For SGD:\")\n",
        "print(lyr.wegt[0], lyr.bias[0])\n",
        "# my_optimizer(lyr, opt, W_grad, B_grad, 'momentum', 10, 3)\n",
        "# print(\"For Momentum:\")\n",
        "# print(lyr.wegt[0], lyr.bias[0])\n",
        "# my_optimizer(lyr, opt, W_grad, B_grad, 'adagrad', 10, 3)\n",
        "# print(\"For Adagrad:\")\n",
        "# print(lyr.wegt[0], lyr.bias[0])\n",
        "# my_optimizer(lyr, opt, W_grad, B_grad, 'rmsprop', 10, 3)\n",
        "# print(\"For RMSProp:\")\n",
        "# print(lyr.wegt[0], lyr.bias[0])\n",
        "# my_optimizer(lyr, opt, W_grad, B_grad, 'adam', 10, 3)\n",
        "# print(\"For adam:\")\n",
        "# print(lyr.wegt[0], lyr.bias[0])"
      ],
      "metadata": {
        "colab": {
          "base_uri": "https://localhost:8080/"
        },
        "id": "ktXFvqFvier5",
        "outputId": "a40a087d-d179-41d3-e035-4120c53effc9"
      },
      "execution_count": 21,
      "outputs": [
        {
          "output_type": "stream",
          "name": "stdout",
          "text": [
            "For SGD:\n",
            "[8.49607236 7.8403     6.18428956] -14.853210006882223\n"
          ]
        }
      ]
    },
    {
      "cell_type": "code",
      "source": [
        "# Create Opimizer Parameters (apply function to each layer)\n",
        "o1 = myOptParam(n_hidden1, n_inputs)\n",
        "o2 = myOptParam(n_hidden2, n_hidden1)\n",
        "o3 = myOptParam(n_classes, n_hidden2)"
      ],
      "metadata": {
        "id": "5Oi3ddjNihGO"
      },
      "execution_count": 18,
      "outputs": []
    },
    {
      "cell_type": "code",
      "source": [
        "#Trainig Simple Neural Network Model(3 layer model)\n",
        "# optimizer settings are: 'sgd', 'momentum', 'adagrad', 'rmsprop', 'adam'\n",
        "# alpha is learning rate\n",
        "optimizer ='sgd'  # set the optimizer\n",
        "alpha = 0.01  # set the value of alpha that is learning rate.\n",
        "n_epochs = 1000 # set the number of epochs\n",
        "\n",
        "for epoch in range(n_epochs):\n",
        "\n",
        "    batches = create_mini_batches(X_train, y_train, batch_size=64)\n",
        "    for one_batch in batches:\n",
        "        X_mini, y_mini = one_batch\n",
        "        batch_len = X_mini.shape[0]  # last batch might have different length\n",
        "\n",
        "        # Forward Path\n",
        "        a_1, a_2, a_3 = my_forward(layers, X_mini)\n",
        "\n",
        "        # Backward Path\n",
        "        d_1, d_2, d_3 = my_backward(layers, a_1, a_2, a_3, X_mini, y_mini)\n",
        "\n",
        "        dw_1, db_1 = d_1\n",
        "        dw_2, db_2 = d_2\n",
        "        dw_3, db_3 = d_3\n",
        "\n",
        "        # Update weights and biases\n",
        "        my_optimizer(l1, o1, dw_1, db_1, solver=optimizer, learning_rate=alpha, iter=epoch+1)\n",
        "        my_optimizer(l2, o2, dw_2, db_2, solver=optimizer, learning_rate=alpha, iter=epoch+1)\n",
        "        my_optimizer(l3, o3, dw_3, db_3, solver=optimizer, learning_rate=alpha, iter=epoch+1)\n",
        "\n",
        "    if ((epoch+1)%100==0):\n",
        "        loss_J = my_loss(layers, X_train, y_train)\n",
        "        print('Epoch: %4d,  loss: %10.8f' % (epoch+1, loss_J))"
      ],
      "metadata": {
        "colab": {
          "base_uri": "https://localhost:8080/"
        },
        "id": "W_Jtd9Of5crl",
        "outputId": "9d5dcc0a-98fc-4816-8edc-256143717c2d"
      },
      "execution_count": 19,
      "outputs": [
        {
          "output_type": "stream",
          "name": "stdout",
          "text": [
            "Epoch:  100,  loss: 0.34530735\n",
            "Epoch:  200,  loss: 0.19123897\n",
            "Epoch:  300,  loss: 0.12508008\n",
            "Epoch:  400,  loss: 0.08817055\n",
            "Epoch:  500,  loss: 0.06534233\n",
            "Epoch:  600,  loss: 0.05036992\n",
            "Epoch:  700,  loss: 0.04011914\n",
            "Epoch:  800,  loss: 0.03284979\n",
            "Epoch:  900,  loss: 0.02752606\n",
            "Epoch: 1000,  loss: 0.02351377\n"
          ]
        }
      ]
    },
    {
      "cell_type": "code",
      "source": [
        "# Evaluate Model Performance\n",
        "from sklearn.metrics import accuracy_score\n",
        "\n",
        "y_pred = my_predict(layers, X_test)\n",
        "# calculate the accuracy\n",
        "accuracy_score(y_pred, y_test)"
      ],
      "metadata": {
        "colab": {
          "base_uri": "https://localhost:8080/"
        },
        "id": "8fPO8whDil1Y",
        "outputId": "e30caeda-da71-4ff2-a093-f4b414aef2ff"
      },
      "execution_count": 20,
      "outputs": [
        {
          "output_type": "execute_result",
          "data": {
            "text/plain": [
              "0.9388888888888889"
            ]
          },
          "metadata": {},
          "execution_count": 20
        }
      ]
    },
    {
      "cell_type": "code",
      "source": [
        "# Neural Network from scikit-learn\n",
        "from sklearn.neural_network import MLPClassifier\n",
        "# set the parameters of MLPClassifier\n",
        "mlp = MLPClassifier(hidden_layer_sizes=(80, 70, ), activation='logistic', solver='sgd', \\\n",
        "                    alpha=0.01, learning_rate_init=0.01, max_iter=1000)\n",
        "\n",
        "# Training/Fitting the Model\n",
        "mlp.fit(X_train, y_train_num)\n",
        "\n",
        "# Making Predictions\n",
        "s_pred = mlp.predict(X_test)\n",
        "accuracy_score(s_pred, y_test)  # calculate the accuray"
      ],
      "metadata": {
        "id": "kCIHB0cLindr",
        "colab": {
          "base_uri": "https://localhost:8080/"
        },
        "outputId": "439afd38-5e52-49d2-d324-1be95421f90a"
      },
      "execution_count": 129,
      "outputs": [
        {
          "output_type": "execute_result",
          "data": {
            "text/plain": [
              "0.9694444444444444"
            ]
          },
          "metadata": {},
          "execution_count": 129
        }
      ]
    },
    {
      "cell_type": "code",
      "source": [
        "#Test Model with a random sample\n",
        "idx = np.random.randint(X_test.shape[0])\n",
        "dimage = X_test_org[idx].reshape((8,8))\n",
        "plt.gray()\n",
        "plt.matshow(dimage)\n",
        "plt.show()\n",
        "\n",
        "X_input = np.expand_dims(X_test[idx], 0)\n",
        "\n",
        "y_pred = my_predict(layers, X_input)\n",
        "\n",
        "s_pred = mlp.predict(X_input)\n",
        "# print out the predicted number.\n",
        "print('My prediction is ' + str(y_pred[0]))\n",
        "print('sk prediction is ' + str(s_pred[0]))\n",
        "print('Actual number is ' + str(y_test[idx]))\n"
      ],
      "metadata": {
        "id": "quq3XiwKipNm",
        "colab": {
          "base_uri": "https://localhost:8080/",
          "height": 510
        },
        "outputId": "83800733-6f0e-4e54-f687-202867586e48"
      },
      "execution_count": 130,
      "outputs": [
        {
          "output_type": "display_data",
          "data": {
            "text/plain": [
              "<Figure size 640x480 with 0 Axes>"
            ]
          },
          "metadata": {}
        },
        {
          "output_type": "display_data",
          "data": {
            "text/plain": [
              "<Figure size 480x480 with 1 Axes>"
            ],
            "image/png": "[encoded data removed]"
          },
          "metadata": {}
        },
        {
          "output_type": "stream",
          "name": "stdout",
          "text": [
            "My prediction is 5\n",
            "sk prediction is 5\n",
            "Actual number is 5\n"
          ]
        }
      ]
    }
  ]
}