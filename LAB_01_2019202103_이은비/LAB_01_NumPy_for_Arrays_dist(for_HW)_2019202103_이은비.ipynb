{
 "cells": [
  {
   "cell_type": "markdown",
   "metadata": {},
   "source": [
    "AI Programming - SW Lee"
   ]
  },
  {
   "attachments": {},
   "cell_type": "markdown",
   "metadata": {},
   "source": [
    "# Lab 01: Numpy Basic"
   ]
  },
  {
   "cell_type": "code",
   "execution_count": null,
   "metadata": {},
   "outputs": [],
   "source": [
    "import numpy as np  # import the package \"numpy\"\n",
    "\n",
    "# set the option values \n",
    "depth = 3\n",
    "np_row = 3\n",
    "np_column = 3\n",
    "output_num = 8\n",
    "\n",
    "np.random.seed(622) # seed value is 622\n",
    "\n",
    "### START CODE HERE ###\n",
    "# random seed [0,1)\n",
    "rand_array1 = np.random.rand(depth,np_row,np_column) # get rand array [0,1) (3, 3, 3) \n",
    "rand_array2 = np.random.rand(output_num,depth,np_row,np_column) # get rand array [0,1) (8, 3, 3, 3) \n",
    "\n",
    "output1 = rand_array1 * rand_array2 # calculate rand_array1 * rand_array2 with broadcast \n",
    "output2 = output1.reshape(-1, np_row*np_column) # reshape the output1 shape ( ,np_row*np_column) \n",
    "\n",
    "max_index = np.argmax(output2, axis=-1) # get max_index (axis = -1)\n",
    "max_num = np.max(output2, axis=-1) # get max_num (axis = -1)\n",
    "\n",
    "one_hot = np.eye(output_num+1)[max_index]# Get the one_hot array form rand_array with max_index\n",
    "\n",
    " ###  END CODE HERE  ###"
   ]
  },
  {
   "cell_type": "code",
   "execution_count": null,
   "metadata": {},
   "outputs": [
    {
     "name": "stdout",
     "output_type": "stream",
     "text": [
      "shape of rand_array1 = (3, 3, 3) \n",
      " rand_array1[0,...] = \n",
      "[[0.66065661 0.87143953 0.19708822]\n",
      " [0.28077271 0.51250531 0.49405338]\n",
      " [0.22509396 0.14382491 0.17562611]]\n",
      "\n",
      "shape of rand_array2 = (8, 3, 3, 3) \n",
      " rand_array2[2,0,...] = \n",
      "[[0.43525402 0.39112109 0.68430252]\n",
      " [0.60701687 0.65487832 0.90284221]\n",
      " [0.68154913 0.93094495 0.62065594]]\n",
      "\n",
      "output1[2,0,...] = \n",
      "[[0.28755344 0.34083838 0.13486797]\n",
      " [0.17043377 0.33562862 0.44605225]\n",
      " [0.15341259 0.13389308 0.10900339]]\n",
      "\n",
      "max_index : [0 5 3]\n",
      "\n",
      "max_num : [0.45075217 0.44127979 0.39931943]\n",
      "\n",
      "one_hot: [[1. 0. 0. 0. 0. 0. 0. 0.]\n",
      " [0. 0. 0. 0. 0. 1. 0. 0.]]\n"
     ]
    }
   ],
   "source": [
    "print(f\"shape of rand_array1 = {rand_array1.shape} \\n rand_array1[0,...] = \\n{rand_array1[0,...]}\\n\")\n",
    "print(f\"shape of rand_array2 = {rand_array2.shape} \\n rand_array2[2,0,...] = \\n{rand_array2[2,0,...]}\\n\")\n",
    "print(f\"output1[2,0,...] = \\n{output1[2,0,...]}\\n\")\n",
    "print(f\"max_index : {max_index[3:6]}\\n\")\n",
    "print(f\"max_num : {max_num[3:6]}\\n\")\n",
    "print(f\"one_hot: {one_hot[3:5]}\")"
   ]
  },
  {
   "cell_type": "code",
   "execution_count": null,
   "metadata": {},
   "outputs": [],
   "source": []
  }
 ],
 "metadata": {
  "kernelspec": {
   "display_name": "tf2",
   "language": "python",
   "name": "python3"
  },
  "language_info": {
   "codemirror_mode": {
    "name": "ipython",
    "version": 3
   },
   "file_extension": ".py",
   "mimetype": "text/x-python",
   "name": "python",
   "nbconvert_exporter": "python",
   "pygments_lexer": "ipython3",
   "version": "3.7.16"
  },
  "vscode": {
   "interpreter": {
    "hash": "71930d9c743a2c2f7d41567bb1e631f1d30be1b0f7ff3429fb86acce8edbed56"
   }
  }
 },
 "nbformat": 4,
 "nbformat_minor": 4
}
