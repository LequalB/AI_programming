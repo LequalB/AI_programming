{
  "nbformat": 4,
  "nbformat_minor": 0,
  "metadata": {
    "colab": {
      "provenance": [],
      "gpuType": "T4"
    },
    "kernelspec": {
      "name": "python3",
      "display_name": "Python 3"
    },
    "language_info": {
      "name": "python"
    },
    "accelerator": "GPU"
  },
  "cells": [
    {
      "cell_type": "code",
      "execution_count": 12,
      "metadata": {
        "id": "Ck4TpmppowPF"
      },
      "outputs": [],
      "source": [
        "#Import the packages required for the job.\n",
        "import numpy as np\n",
        "import tensorflow as tf\n",
        "import tensorflow_datasets as tfds\n",
        "import matplotlib.pyplot as plt"
      ]
    },
    {
      "cell_type": "code",
      "source": [
        "#from keras.datasets import imdb\n",
        "#Loading IMDB standard dataset using the Keras dataset class.\n",
        "(ds_train, ds_test), ds_info = tfds.load('imdb_reviews',\n",
        "                                         split=['train', 'test'],  # + 'unsupervised'\n",
        "                                         shuffle_files=True,\n",
        "                                         as_supervised=True,\n",
        "                                         with_info=True)\n",
        "\n",
        "print(ds_info.features)"
      ],
      "metadata": {
        "colab": {
          "base_uri": "https://localhost:8080/"
        },
        "id": "C-blWzSdpVQC",
        "outputId": "0283cc34-2702-4d2a-9262-5ae6283d81a9"
      },
      "execution_count": 13,
      "outputs": [
        {
          "output_type": "stream",
          "name": "stdout",
          "text": [
            "FeaturesDict({\n",
            "    'label': ClassLabel(shape=(), dtype=int64, num_classes=2),\n",
            "    'text': Text(shape=(), dtype=string),\n",
            "})\n"
          ]
        }
      ]
    },
    {
      "cell_type": "code",
      "source": [
        "# pre-processing the dataset\n",
        "X_train = []\n",
        "y_train = []\n",
        "\n",
        "X_test_str = []\n",
        "y_test = []\n",
        "# Extract training data and store it in the list\n",
        "for sentense, label in ds_train:\n",
        "    X_train.append(sentense.numpy().decode('utf8'))\n",
        "    y_train.append(label.numpy())\n",
        "# Extract test data and store it in the list\n",
        "for sentense, label in ds_test:\n",
        "    X_test_str.append(sentense.numpy().decode('utf8'))  # X_test_str is used at the test stage\n",
        "    y_test.append(label.numpy())\n",
        "# Convert labels to NumPy arrays\n",
        "y_train = np.array(y_train)\n",
        "y_test = np.array(y_test)"
      ],
      "metadata": {
        "id": "rNTARXwwphhI"
      },
      "execution_count": 14,
      "outputs": []
    },
    {
      "cell_type": "code",
      "source": [
        "# print the sample data, X_train[0]\n",
        "print(X_train[0])\n",
        "print('The review is', 'Positive' if y_train[0]==1 else 'Negative')"
      ],
      "metadata": {
        "colab": {
          "base_uri": "https://localhost:8080/"
        },
        "id": "Yq_7dJzrpldb",
        "outputId": "52b29c71-b520-445f-f6fc-c6c0a78d86c0"
      },
      "execution_count": 15,
      "outputs": [
        {
          "output_type": "stream",
          "name": "stdout",
          "text": [
            "This was an absolutely terrible movie. Don't be lured in by Christopher Walken or Michael Ironside. Both are great actors, but this must simply be their worst role in history. Even their great acting could not redeem this movie's ridiculous storyline. This movie is an early nineties US propaganda piece. The most pathetic scenes were those when the Columbian rebels were making their cases for revolutions. Maria Conchita Alonso appeared phony, and her pseudo-love affair with Walken was nothing but a pathetic emotional plug in a movie that was devoid of any real meaning. I am disappointed that there are movies like this, ruining actor's like Christopher Walken's good name. I could barely sit through it.\n",
            "The review is Negative\n"
          ]
        }
      ]
    },
    {
      "cell_type": "code",
      "source": [
        "#Tokenizer and Integer encoding\n",
        "# hyperparameter for word embeddings\n",
        "vocab_size = 10000\n",
        "embedding_size = 128\n",
        "max_length = 300\n",
        "\n",
        "### START CODE HERE ###\n",
        "# Create Tokenizer objects and train them to X_train data\n",
        "tokenizer = tf.keras.preprocessing.text.Tokenizer(num_words = vocab_size)\n",
        "tokenizer.fit_on_texts(X_train)\n",
        "# Gets a unique index for each word\n",
        "word_index = tokenizer.word_index\n",
        "# Converting sentences into word index sequences\n",
        "X_train = tokenizer.texts_to_sequences(X_train)\n",
        "X_test  = tokenizer.texts_to_sequences(X_test_str)\n",
        "# Padding the sequence to its maximum length\n",
        "X_train = tf.keras.preprocessing.sequence.pad_sequences(X_train, maxlen=max_length)\n",
        "X_test  = tf.keras.preprocessing.sequence.pad_sequences(X_test, maxlen=max_length)\n",
        "\n",
        "### END CODE HERE ###\n"
      ],
      "metadata": {
        "id": "csvdSquGpt2u"
      },
      "execution_count": 16,
      "outputs": []
    },
    {
      "cell_type": "code",
      "source": [
        "# This cell uses the GRU model.\n",
        "# Import the packages required for the job.\n",
        "from keras.layers import Embedding, Bidirectional, Dense\n",
        "import tensorflow as tf\n",
        "\n",
        "hidden_states = 64\n",
        "dropout_rate = 0.5\n",
        "\n",
        "model = tf.keras.Sequential()\n",
        "# Embedded layer: transforming words into embedded vectors\n",
        "model.add(tf.keras.layers.Embedding(input_dim=vocab_size, output_dim=embedding_size, input_length=max_length)) # embedding layer\n",
        "# Bidirectional GRU layer: Bidirectional recurrent neural networks\n",
        "model.add(tf.keras.layers.Bidirectional(tf.keras.layers.GRU(hidden_states)))  # bidirectional GRU\n",
        "# Dropout layer: Apply dropout to prevent overfitting\n",
        "model.add(tf.keras.layers.Dropout(dropout_rate))  # dropout\n",
        "# Output layer: Using the sigmoid activation function for binary classification\n",
        "model.add(tf.keras.layers.Dense(1, activation='sigmoid'))  # output layer\n",
        "# Compilation of models: setting loss functions, optimizers, and evaluation metrics\n",
        "model.compile(loss='binary_crossentropy', optimizer='adam', metrics=['accuracy'])\n",
        "# Model Summary Output\n",
        "model.summary()\n"
      ],
      "metadata": {
        "colab": {
          "base_uri": "https://localhost:8080/"
        },
        "id": "MQVRxJlNpxRU",
        "outputId": "bd6975a3-6ffe-4a72-dad6-97c482a1d311"
      },
      "execution_count": null,
      "outputs": [
        {
          "output_type": "stream",
          "name": "stdout",
          "text": [
            "Model: \"sequential\"\n",
            "_________________________________________________________________\n",
            " Layer (type)                Output Shape              Param #   \n",
            "=================================================================\n",
            " embedding (Embedding)       (None, 300, 128)          1280000   \n",
            "                                                                 \n",
            " bidirectional (Bidirection  (None, 128)               74496     \n",
            " al)                                                             \n",
            "                                                                 \n",
            " dropout (Dropout)           (None, 128)               0         \n",
            "                                                                 \n",
            " dense (Dense)               (None, 1)                 129       \n",
            "                                                                 \n",
            "=================================================================\n",
            "Total params: 1354625 (5.17 MB)\n",
            "Trainable params: 1354625 (5.17 MB)\n",
            "Non-trainable params: 0 (0.00 Byte)\n",
            "_________________________________________________________________\n"
          ]
        }
      ]
    },
    {
      "cell_type": "code",
      "source": [
        "# This cell uses the LSTM model.\n",
        "# Import the packages required for the job.\n",
        "from keras.layers import Embedding, Bidirectional, Dense\n",
        "import tensorflow as tf\n",
        "\n",
        "hidden_states = 64\n",
        "dropout_rate = 0.5\n",
        "\n",
        "model = tf.keras.Sequential()\n",
        "# Embedded layer: transforming words into embedded vectors\n",
        "model.add(tf.keras.layers.Embedding(input_dim=vocab_size, output_dim=embedding_size, input_length=max_length)) # embedding layer\n",
        "# Bidirectional LSTM layer: Bidirectional recurrent neural networks\n",
        "model.add(tf.keras.layers.Bidirectional(tf.keras.layers.LSTM(hidden_states)))  # bidirectional GRU\n",
        "# Dropout layer: Apply dropout to prevent overfitting\n",
        "model.add(tf.keras.layers.Dropout(dropout_rate))  # dropout\n",
        "# Output layer: Using the sigmoid activation function for binary classification\n",
        "model.add(tf.keras.layers.Dense(1, activation='sigmoid'))  # output layer\n",
        "# Compilation of models: setting loss functions, optimizers, and evaluation metrics\n",
        "model.compile(loss='binary_crossentropy', optimizer='adam', metrics=['accuracy'])\n",
        "# Model Summary Output\n",
        "model.summary()"
      ],
      "metadata": {
        "colab": {
          "base_uri": "https://localhost:8080/"
        },
        "id": "jLqLUqBQblHX",
        "outputId": "4f84c6ec-63dc-4c0d-e817-c6ca6447a7c2"
      },
      "execution_count": 17,
      "outputs": [
        {
          "output_type": "stream",
          "name": "stdout",
          "text": [
            "Model: \"sequential_1\"\n",
            "_________________________________________________________________\n",
            " Layer (type)                Output Shape              Param #   \n",
            "=================================================================\n",
            " embedding_1 (Embedding)     (None, 300, 128)          1280000   \n",
            "                                                                 \n",
            " bidirectional_1 (Bidirecti  (None, 128)               98816     \n",
            " onal)                                                           \n",
            "                                                                 \n",
            " dropout_1 (Dropout)         (None, 128)               0         \n",
            "                                                                 \n",
            " dense_1 (Dense)             (None, 1)                 129       \n",
            "                                                                 \n",
            "=================================================================\n",
            "Total params: 1378945 (5.26 MB)\n",
            "Trainable params: 1378945 (5.26 MB)\n",
            "Non-trainable params: 0 (0.00 Byte)\n",
            "_________________________________________________________________\n"
          ]
        }
      ]
    },
    {
      "cell_type": "code",
      "source": [
        "# Training\n",
        "n_batch = 64\n",
        "# Early termination callback: Monitoring verification loss, minimization mode, shutdown if not improved during 4 epoch\n",
        "es = tf.keras.callbacks.EarlyStopping(monitor='val_loss', mode='min', verbose=1, patience=4)\n",
        "# Model Checkpoint Callback: Save Model with Highest Verification Accuracy\n",
        "mc = tf.keras.callbacks.ModelCheckpoint('GRU_imdb.h5', monitor='val_accuracy', mode='max', verbose=1, save_best_only=True)\n",
        "# Model training\n",
        "results = model.fit(X_train, y_train,\n",
        "            batch_size=n_batch,\n",
        "            epochs=10,\n",
        "            callbacks=[es, mc],\n",
        "            validation_split=0.2)\n",
        "# Outputting Training Results\n",
        "print(results.history['loss'])\n",
        "print(results.history['accuracy'])"
      ],
      "metadata": {
        "colab": {
          "base_uri": "https://localhost:8080/"
        },
        "id": "2l2z8Mp7pyV1",
        "outputId": "5eae0eb0-94b8-43b5-c44f-761c3d91ca2f"
      },
      "execution_count": 18,
      "outputs": [
        {
          "output_type": "stream",
          "name": "stdout",
          "text": [
            "Epoch 1/10\n",
            "313/313 [==============================] - ETA: 0s - loss: 0.4478 - accuracy: 0.7886\n",
            "Epoch 1: val_accuracy improved from -inf to 0.85200, saving model to GRU_imdb.h5\n",
            "313/313 [==============================] - 39s 111ms/step - loss: 0.4478 - accuracy: 0.7886 - val_loss: 0.3454 - val_accuracy: 0.8520\n",
            "Epoch 2/10\n"
          ]
        },
        {
          "output_type": "stream",
          "name": "stderr",
          "text": [
            "/usr/local/lib/python3.10/dist-packages/keras/src/engine/training.py:3079: UserWarning: You are saving your model as an HDF5 file via `model.save()`. This file format is considered legacy. We recommend using instead the native Keras format, e.g. `model.save('my_model.keras')`.\n",
            "  saving_api.save_model(\n"
          ]
        },
        {
          "output_type": "stream",
          "name": "stdout",
          "text": [
            "313/313 [==============================] - ETA: 0s - loss: 0.2618 - accuracy: 0.9007\n",
            "Epoch 2: val_accuracy improved from 0.85200 to 0.87780, saving model to GRU_imdb.h5\n",
            "313/313 [==============================] - 19s 59ms/step - loss: 0.2618 - accuracy: 0.9007 - val_loss: 0.3088 - val_accuracy: 0.8778\n",
            "Epoch 3/10\n",
            "313/313 [==============================] - ETA: 0s - loss: 0.2332 - accuracy: 0.9104\n",
            "Epoch 3: val_accuracy did not improve from 0.87780\n",
            "313/313 [==============================] - 13s 43ms/step - loss: 0.2332 - accuracy: 0.9104 - val_loss: 0.3730 - val_accuracy: 0.8506\n",
            "Epoch 4/10\n",
            "313/313 [==============================] - ETA: 0s - loss: 0.1603 - accuracy: 0.9409\n",
            "Epoch 4: val_accuracy did not improve from 0.87780\n",
            "313/313 [==============================] - 11s 35ms/step - loss: 0.1603 - accuracy: 0.9409 - val_loss: 0.3563 - val_accuracy: 0.8716\n",
            "Epoch 5/10\n",
            "313/313 [==============================] - ETA: 0s - loss: 0.1396 - accuracy: 0.9506\n",
            "Epoch 5: val_accuracy did not improve from 0.87780\n",
            "313/313 [==============================] - 10s 33ms/step - loss: 0.1396 - accuracy: 0.9506 - val_loss: 0.4222 - val_accuracy: 0.8542\n",
            "Epoch 6/10\n",
            "313/313 [==============================] - ETA: 0s - loss: 0.1511 - accuracy: 0.9438\n",
            "Epoch 6: val_accuracy did not improve from 0.87780\n",
            "313/313 [==============================] - 10s 32ms/step - loss: 0.1511 - accuracy: 0.9438 - val_loss: 0.4109 - val_accuracy: 0.8606\n",
            "Epoch 6: early stopping\n",
            "[0.4477732479572296, 0.2618422210216522, 0.2331787794828415, 0.16030624508857727, 0.13959068059921265, 0.15106803178787231]\n",
            "[0.7886499762535095, 0.9007499814033508, 0.9103500247001648, 0.9409000277519226, 0.9506499767303467, 0.9437999725341797]\n"
          ]
        }
      ]
    },
    {
      "cell_type": "code",
      "source": [
        "# plot loss and accuracy\n",
        "import matplotlib.pyplot as plt\n",
        "# Create graph objects to draw loss and accuracy graphs\n",
        "plt.figure(figsize=(10,4))\n",
        "# First subplot: Loss Graph\n",
        "plt.subplot(1,2,1)\n",
        "plt.plot(results.history['loss'], 'b-', label='loss')\n",
        "plt.plot(results.history['val_loss'], 'r-', label='val_loss')\n",
        "plt.xlabel('epoch')\n",
        "plt.legend()\n",
        "# Second subplot: Accuracy Graph\n",
        "plt.subplot(1,2,2)\n",
        "plt.plot(results.history['accuracy'], 'g-', label='accuracy')\n",
        "plt.plot(results.history['val_accuracy'], 'r-', label='val_accuracy')\n",
        "plt.xlabel('epoch')\n",
        "plt.legend()\n",
        "# print the graph\n",
        "plt.show()"
      ],
      "metadata": {
        "colab": {
          "base_uri": "https://localhost:8080/",
          "height": 388
        },
        "id": "bf36fWShp0lK",
        "outputId": "5d6c87c4-0534-4148-ecd0-8b698ddd32ad"
      },
      "execution_count": 19,
      "outputs": [
        {
          "output_type": "display_data",
          "data": {
            "text/plain": [
              "<Figure size 1000x400 with 2 Axes>"
            ],
            "image/png": "[encoded data removed]"
          },
          "metadata": {}
        }
      ]
    },
    {
      "cell_type": "code",
      "source": [
        "# model = tf.keras.models.load_model('GRU_imdb.h5')\n",
        "model.evaluate(X_test, y_test)"
      ],
      "metadata": {
        "colab": {
          "base_uri": "https://localhost:8080/"
        },
        "id": "uoJq628sp4wX",
        "outputId": "55d18903-49b9-492e-b891-af087bcfe782"
      },
      "execution_count": 20,
      "outputs": [
        {
          "output_type": "stream",
          "name": "stdout",
          "text": [
            "782/782 [==============================] - 12s 16ms/step - loss: 0.4251 - accuracy: 0.8580\n"
          ]
        },
        {
          "output_type": "execute_result",
          "data": {
            "text/plain": [
              "[0.4250820279121399, 0.8579599857330322]"
            ]
          },
          "metadata": {},
          "execution_count": 20
        }
      ]
    },
    {
      "cell_type": "code",
      "source": [
        "# select the random index\n",
        "idx = np.random.randint(X_test.shape[0])\n",
        "# Reshaping the selected test data to enter the model\n",
        "X_input = X_test[idx].reshape(1,-1)\n",
        "# Use the model to predict the positivity score of the selected review\n",
        "score = float(model.predict(X_input))\n",
        "# Decide positively or negatively for reviews based on predicted scores\n",
        "decision = 1 if score>0.5 else 0\n",
        "# Use the score if positive and subtract the score from 1 if negative to calculate the opposite score\n",
        "rate = score if decision==1 else (1-score)\n",
        "# print the selected review text\n",
        "print(X_test_str[idx])\n",
        "# print the decision and score\n",
        "print('The review is', 'Positive' if decision==1 else 'Negative', 'in {:.2f}% '.format(rate*100))\n",
        "\n",
        "#print(X_input.shape)"
      ],
      "metadata": {
        "colab": {
          "base_uri": "https://localhost:8080/"
        },
        "id": "Py1Xj8luqGjo",
        "outputId": "4330c64d-f3c1-4835-fd9d-6365d6197536"
      },
      "execution_count": 21,
      "outputs": [
        {
          "output_type": "stream",
          "name": "stdout",
          "text": [
            "1/1 [==============================] - 1s 669ms/step\n",
            "When the movie first started I thought cheesy. The first ten minutes were really boring. After the slow beginning and some of the soap opera antics, I started liking it. The plot was different than anything I had ever seen. Now, was it a horror? Not really. It shouldn't have been classied as a horror or the producers should have put more money into the movie to make it scary. As it was, the creatures where only there for a short time. I can only assume this was for money reason.<br /><br />The good side was that the movie was very entertaining. It held my interest (after the start) and did make me wonder about creatures from another dimension.<br /><br />It was obvious that this was a first time movie for the director, but there were a couple of highlights. By the end, I was hooked. Too bad Hollywood didn't put more money behind this.\n",
            "The review is Negative in 99.27% \n"
          ]
        }
      ]
    }
  ]
}