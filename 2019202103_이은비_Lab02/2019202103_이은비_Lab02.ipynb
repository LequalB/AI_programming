{
  "nbformat": 4,
  "nbformat_minor": 0,
  "metadata": {
    "colab": {
      "provenance": []
    },
    "kernelspec": {
      "name": "python3",
      "display_name": "Python 3"
    },
    "language_info": {
      "name": "python"
    }
  },
  "cells": [
    {
      "cell_type": "code",
      "execution_count": 1,
      "metadata": {
        "id": "FJtFvXZqYCDz"
      },
      "outputs": [],
      "source": [
        "import numpy as np\n",
        "from sklearn.datasets import load_digits\n",
        "from sklearn.model_selection import train_test_split\n",
        "from sklearn.preprocessing import StandardScaler\n",
        "import matplotlib.pyplot as plt\n",
        "\n",
        "digits = load_digits()\n",
        "\n",
        "# digits.data from sklearn contains 1797 images of 8x8 pixels\n",
        "# Each image has a hand-written digit\n",
        "digits_df = digits.images.reshape((len(digits.target), -1))\n",
        "digits_tf = digits.target\n",
        "\n",
        "# Splitting dataframe into train & test\n",
        "X_train_org, X_test_org, y_train_num, y_test = train_test_split(digits_df, digits_tf, test_size= 0.20, random_state= 101)\n",
        "\n",
        "# Digits data has range of [0,16], which often lead too big exponential values\n",
        "# so make them normal distribution of [0,1] with the sklearn package, or you can just divide them by 16\n",
        "sc = StandardScaler()\n",
        "X_train = sc.fit_transform(X_train_org)\n",
        "X_test = sc.transform(X_test_org)\n",
        "\n",
        "n_classes = 10\n",
        "\n",
        "# Transform Nx1 Y vector into Nx10 answer vector, so that we can perform one-to-all classification\n",
        "y_train = np.zeros((y_train_num.shape[0],10))\n",
        "for i in range(n_classes):\n",
        "    y_train[:,i] = (y_train_num == i)"
      ]
    },
    {
      "cell_type": "code",
      "source": [
        "# Utility functions for the forwardpath\n",
        "def sigmoid(x): # sigmoid function\n",
        "    # Numerically stable with large exponentials\n",
        "    x = np.where(x < 0, np.exp(x)/(1 + np.exp(x)), 1/(1 + np.exp(-x)))\n",
        "    return x\n",
        "\n",
        "def softmax(x): #softmax function\n",
        "    # Numerically stable with large exponentials\n",
        "    x = x - np.max(x, axis=-1, keepdims=True)\n",
        "    x = np.exp(x)\n",
        "    xs = np.sum(x, axis=-1, keepdims=True)\n",
        "    return x / xs"
      ],
      "metadata": {
        "id": "YUMIeboXYNvG"
      },
      "execution_count": 2,
      "outputs": []
    },
    {
      "cell_type": "code",
      "source": [
        "print(digits_df.shape)  # 2D ndarray size of digits_df's shape\n",
        "print(X_train.shape)    # 2D ndarray size of X_train's shape\n",
        "print(y_train.shape)    # 2D ndarray size of y_train's shape\n",
        "print(X_train_org[0])   # print array\n",
        "\n",
        "idx = np.random.randint(X_train.shape[0])   # print the arbitrary number\n",
        "dimage = X_train_org[idx].reshape((8,8))\n",
        "plt.matshow(dimage)\n",
        "plt.gray()\n",
        "plt.show()\n",
        "print('The number is', y_train_num[idx])"
      ],
      "metadata": {
        "colab": {
          "base_uri": "https://localhost:8080/",
          "height": 584
        },
        "id": "-UrgsyqTYQz1",
        "outputId": "6e30473c-7929-4ba1-d535-116a81bc7f73"
      },
      "execution_count": 3,
      "outputs": [
        {
          "output_type": "stream",
          "name": "stdout",
          "text": [
            "(1797, 64)\n",
            "(1437, 64)\n",
            "(1437, 10)\n",
            "[ 0.  0.  0.  9. 16.  6.  0.  0.  0.  0.  4. 15.  6. 15.  0.  0.  0.  0.\n",
            "  8. 11.  9. 11.  0.  0.  0.  0.  8. 16. 14.  2.  0.  0.  0.  0. 11. 16.\n",
            " 13.  0.  0.  0.  0.  6. 14.  2. 12.  9.  0.  0.  0.  5. 16. 11.  5. 13.\n",
            "  4.  0.  0.  0.  3.  8. 13. 16.  9.  0.]\n"
          ]
        },
        {
          "output_type": "display_data",
          "data": {
            "text/plain": [
              "<Figure size 480x480 with 1 Axes>"
            ],
            "image/png": "[encoded data removed]"
          },
          "metadata": {}
        },
        {
          "output_type": "stream",
          "name": "stdout",
          "text": [
            "The number is 6\n"
          ]
        }
      ]
    },
    {
      "cell_type": "code",
      "source": [
        "class myDenseLayer:\n",
        "    def __init__(self, n_out, n_in):\n",
        "        self.wegt = np.zeros((n_out, n_in))\n",
        "        self.bias = np.zeros((n_out))\n",
        "\n",
        "    def forward(self, x):                      # (b, i)\n",
        "        ### START CODE HERE ###\n",
        "        x_lin = (self.wegt @x.T).T + self.bias  # Linear Prediction\n",
        "\n",
        "        ### END CODE HERE ###\n",
        "        return x_lin\n",
        "\n",
        "    def backward(self, x, x_in):  # x = dJ/dz (b, c)\n",
        "        ### START CODE HERE ###\n",
        "\n",
        "        dw = x.T @ x_in   # Gradients for weights\n",
        "        db = np.sum(x, axis=0)  # Gradients for biases\n",
        "        wdJdz =  x @ self.wegt # Propagation for lower layer\n",
        "\n",
        "        ### END CODE HERE ###\n",
        "        return dw, db, wdJdz"
      ],
      "metadata": {
        "id": "_6ExAq_WYuK1"
      },
      "execution_count": 4,
      "outputs": []
    },
    {
      "cell_type": "code",
      "source": [
        "np.random.seed(0)   # set the random seed\n",
        "\n",
        "tmp = myDenseLayer(3,5)\n",
        "tmp.wegt = np.random.randn(3,5)\n",
        "tmp.bias = np.random.randn(3)\n",
        "\n",
        "print(tmp.forward(np.random.randn(2,5,3))) # print out the result through the forward function."
      ],
      "metadata": {
        "colab": {
          "base_uri": "https://localhost:8080/"
        },
        "id": "LbS7alhmYyWJ",
        "outputId": "4b490a85-99cf-472f-a4de-783a2d1ec068"
      },
      "execution_count": 5,
      "outputs": [
        {
          "output_type": "stream",
          "name": "stdout",
          "text": [
            "[[[ 3.23890168  3.05091188 -3.32627831]\n",
            "  [ 0.388114    3.36724875  1.06158492]\n",
            "  [ 3.10267869  1.87570497 -1.8326582 ]]\n",
            "\n",
            " [[-7.60581826  2.36703751 -1.16423539]\n",
            "  [ 3.48035012  2.41940644 -0.13917734]\n",
            "  [ 1.20541315  2.07585619 -1.5435161 ]]]\n"
          ]
        }
      ]
    },
    {
      "cell_type": "code",
      "source": [
        "# activation functions for the backpropagation.\n",
        "def dJdz_sigmoid(wdJdz_upper, az):\n",
        "    dJdz = wdJdz_upper * az * (1 - az)    # backpropagation through activation function\n",
        "    return dJdz\n",
        "\n",
        "def dJdz_softmax(y_hat, y):\n",
        "    dJdz = y_hat - y   # backpropagation through activation function\n",
        "    return dJdz"
      ],
      "metadata": {
        "id": "64QH6dz2o2XB"
      },
      "execution_count": 6,
      "outputs": []
    },
    {
      "cell_type": "code",
      "source": [
        "np.random.seed(0)   # set the random seed\n",
        "\n",
        "print(dJdz_sigmoid(np.random.randn(3),np.random.randn(3)))  # print out the value through dJdz_sigmoid function.\n",
        "print(dJdz_softmax(np.random.randn(3),np.random.randn(3)))  # print out the value through dJdz_softmax function."
      ],
      "metadata": {
        "colab": {
          "base_uri": "https://localhost:8080/"
        },
        "id": "5gcnUFQho3ON",
        "outputId": "c837c58f-b164-4adf-dab0-64fef22a246b"
      },
      "execution_count": 7,
      "outputs": [
        {
          "output_type": "stream",
          "name": "stdout",
          "text": [
            "[-4.90531647 -0.64834065 -1.89126428]\n",
            "[ 0.53948992 -0.29540078 -1.55749236]\n"
          ]
        }
      ]
    },
    {
      "cell_type": "code",
      "source": [
        "def my_forward(l1, l2, l3, X_in):\n",
        "    ### START CODE HERE ###\n",
        "\n",
        "    a_1 = sigmoid(l1.forward(X_in))         # first stage forward\n",
        "    a_2 = sigmoid(l2.forward(a_1))          # second stage forward\n",
        "    a_3 = softmax(l3.forward(a_2))          # third stage forward\n",
        "\n",
        "    ### END CODE HERE ###\n",
        "    return a_1, a_2, a_3\n",
        "\n",
        "def my_backward(l1, l2, l3, a_1, a_2, a_3, X_in, y_true):\n",
        "    ### START CODE HERE ###\n",
        "\n",
        "    # Calculate gradients in reverse order (backpropagation)\n",
        "    dJdz_3 = dJdz_softmax(a_3, y_true) # define the dJdz_3 value through the dJdz_softmax function.\n",
        "    dw_3, db_3, wdJdz_3 = l3.backward(dJdz_3, a_2)  # go through 3rd stage backward\n",
        "\n",
        "    dJdz_2 = dJdz_sigmoid(wdJdz_3, a_2) # define the dJdz_2 value through the dJdz_sigmoid function.\n",
        "    dw_2, db_2, wdJdz_2 = l2.backward(dJdz_2, a_1)   # go through 2nd stage backward\n",
        "\n",
        "    dJdz_1 = dJdz_sigmoid(wdJdz_2, a_1) # define the dJdz_1 value through the dJdz_sigmoid function.\n",
        "    dw_1, db_1, _ = l1.backward(dJdz_1, X_in)    # go through 1st stage backward\n",
        "\n",
        "    ### END CODE HERE ###\n",
        "\n",
        "    d_1 = [dw_1, db_1]  # assigning values set the data type.\n",
        "    d_2 = [dw_2, db_2]\n",
        "    d_3 = [dw_3, db_3]\n",
        "\n",
        "    return d_1, d_2, d_3\n",
        "\n",
        "def my_loss(l1, l2, l3, X_in, y_true):\n",
        "    ### START CODE HERE ###\n",
        "\n",
        "    a_1, a_2, a_3 = my_forward(l1, l2, l3, X_in)    # Assign each returned value to each variable\n",
        "    loss = -np.mean(np.sum(y_true * np.log(a_3), axis=1))                  # calculate loss\n",
        "\n",
        "    ### END CODE HERE ###\n",
        "    return loss\n",
        "\n",
        "def my_predict(l1, l2, l3, X_in):\n",
        "    ### START CODE HERE ###\n",
        "    a_1, a_2, a_3 = my_forward(l1, l2, l3, X_in)    # Assign each returned value to each variable\n",
        "    pred = np.argmax(a_3, axis=1)                   # make prediction\n",
        "\n",
        "    ### END CODE HERE ###\n",
        "    return pred"
      ],
      "metadata": {
        "id": "AqqTLAbTJ8LR"
      },
      "execution_count": 8,
      "outputs": []
    },
    {
      "cell_type": "code",
      "source": [
        "n_inputs  = 64  # set the parameters\n",
        "n_hidden1 = 80\n",
        "n_hidden2 = 70\n",
        "n_classes = 10\n",
        "\n",
        "l1 = myDenseLayer(n_hidden1, n_inputs)  # set the layer1 through myDenseLayer function\n",
        "l2 = myDenseLayer(n_hidden2, n_hidden1) # set the layer2 through myDenseLayer function\n",
        "l3 = myDenseLayer(n_classes, n_hidden2) # set the layer3 through myDenseLayer function.\n",
        "\n",
        "print(X_train.shape, y_train.shape) # print out the shape of X_train, y_train\n",
        "print(l1.wegt.shape, l1.bias.shape) # print out the shape of l1's weight and l1's bias\n",
        "print(l2.wegt.shape, l2.bias.shape) # print out the shape of l2's weight and l1's bias\n",
        "print(l3.wegt.shape, l3.bias.shape) # print out the shape of l3's weight and l1's bias"
      ],
      "metadata": {
        "colab": {
          "base_uri": "https://localhost:8080/"
        },
        "id": "oAVLEx96o9ia",
        "outputId": "403ca736-9145-45bb-91d9-5fd9790b7377"
      },
      "execution_count": 9,
      "outputs": [
        {
          "output_type": "stream",
          "name": "stdout",
          "text": [
            "(1437, 64) (1437, 10)\n",
            "(80, 64) (80,)\n",
            "(70, 80) (70,)\n",
            "(10, 70) (10,)\n"
          ]
        }
      ]
    },
    {
      "cell_type": "code",
      "source": [
        "# Weights are initialized to...\n",
        "l1.wegt = np.random.randn(n_hidden1, n_inputs)\n",
        "l2.wegt = np.random.randn(n_hidden2, n_hidden1)\n",
        "l3.wegt = np.random.randn(n_classes, n_hidden2)"
      ],
      "metadata": {
        "id": "rUubPNy8o_IG"
      },
      "execution_count": 10,
      "outputs": []
    },
    {
      "cell_type": "code",
      "source": [
        "#set the parameters\n",
        "alpha = 0.01 # alpha: learning rate\n",
        "n_epochs = 5000\n",
        "n_train = X_train.shape[0]\n",
        "\n",
        "for epoch in range(n_epochs):\n",
        "    ### START CODE HERE ###\n",
        "\n",
        "    # Forward Path\n",
        "    a_1, a_2, a_3 = my_forward(l1, l2, l3, X_train)  # forward path, assuming you have defined my_forward function\n",
        "\n",
        "    # Backward Path\n",
        "    d_1, d_2, d_3 = my_backward(l1, l2, l3, a_1, a_2, a_3, X_train, y_train)  # backward path, assuming you have defined my_backward function\n",
        "\n",
        "    ### END CODE HERE ###\n",
        "\n",
        "    dw_1, db_1 = d_1\n",
        "    dw_2, db_2 = d_2\n",
        "    dw_3, db_3 = d_3\n",
        "\n",
        "    # Update weights and biases\n",
        "    ### START CODE HERE ###\n",
        "\n",
        "    l3.wegt = l3.wegt - alpha * dw_3  # Update weights of layer 3\n",
        "    l3.bias = l3.bias - alpha * db_3  # Update biases of layer 3\n",
        "    l2.wegt = l2.wegt - alpha * dw_2  # Update weights of layer 2\n",
        "    l2.bias = l2.bias - alpha * db_2  # Update biases of layer 2\n",
        "    l1.wegt = l1.wegt - alpha * dw_1  # Update weights of layer 1\n",
        "    l1.bias = l1.bias - alpha * db_1  # Update biases of layer 1\n",
        "\n",
        "    ### END CODE HERE ###\n",
        "\n",
        "    # Print loss\n",
        "    if ((epoch+1) % 500 == 0):\n",
        "        loss_J = my_loss(l1, l2, l3, X_train, y_train)\n",
        "        print('Epoch: %4d,  loss: %10.8f' % (epoch+1, loss_J))\n"
      ],
      "metadata": {
        "colab": {
          "base_uri": "https://localhost:8080/"
        },
        "id": "yuHufeOFFog0",
        "outputId": "0f8caa4f-9590-44dd-fa45-d460a780aee9"
      },
      "execution_count": 11,
      "outputs": [
        {
          "output_type": "stream",
          "name": "stdout",
          "text": [
            "Epoch:  500,  loss: 0.03927880\n",
            "Epoch: 1000,  loss: 0.01282518\n",
            "Epoch: 1500,  loss: 0.00482432\n",
            "Epoch: 2000,  loss: 0.00283907\n",
            "Epoch: 2500,  loss: 0.00198707\n",
            "Epoch: 3000,  loss: 0.00148731\n",
            "Epoch: 3500,  loss: 0.00113596\n",
            "Epoch: 4000,  loss: 0.00089513\n",
            "Epoch: 4500,  loss: 0.00072707\n",
            "Epoch: 5000,  loss: 0.00060800\n"
          ]
        }
      ]
    },
    {
      "cell_type": "code",
      "source": [
        "from sklearn.metrics import accuracy_score\n",
        "\n",
        "y_pred = my_predict(l1, l2, l3, X_test)\n",
        "\n",
        "accuracy_score(y_pred, y_test)  # calculate accuracy with two values"
      ],
      "metadata": {
        "colab": {
          "base_uri": "https://localhost:8080/"
        },
        "id": "9rI7rAN7pDnZ",
        "outputId": "98e10359-500b-4aa6-bc12-403f3036e200"
      },
      "execution_count": 12,
      "outputs": [
        {
          "output_type": "execute_result",
          "data": {
            "text/plain": [
              "0.9638888888888889"
            ]
          },
          "metadata": {},
          "execution_count": 12
        }
      ]
    },
    {
      "cell_type": "code",
      "source": [
        "from sklearn.neural_network import MLPClassifier\n",
        "\n",
        "mlp = MLPClassifier(hidden_layer_sizes=(80, 70, ), activation='logistic', solver='sgd', \\\n",
        "                    alpha=0.01, learning_rate_init=0.01, max_iter=1000)\n",
        "\n",
        "# Training/Fitting the Model\n",
        "mlp.fit(X_train, y_train_num)\n",
        "\n",
        "# Making Predictions\n",
        "s_pred = mlp.predict(X_test)\n",
        "accuracy_score(s_pred, y_test)  # calculate accuracy with two values"
      ],
      "metadata": {
        "colab": {
          "base_uri": "https://localhost:8080/"
        },
        "id": "wCyApKt_pFCB",
        "outputId": "af66cd73-a5e1-42ae-f21f-f416f521fd23"
      },
      "execution_count": 13,
      "outputs": [
        {
          "output_type": "execute_result",
          "data": {
            "text/plain": [
              "0.9666666666666667"
            ]
          },
          "metadata": {},
          "execution_count": 13
        }
      ]
    },
    {
      "cell_type": "code",
      "source": [
        "idx = np.random.randint(X_test.shape[0])\n",
        "dimage = X_test_org[idx].reshape((8,8))\n",
        "plt.gray()\n",
        "plt.matshow(dimage)\n",
        "plt.show()\n",
        "\n",
        "X_input = np.expand_dims(X_test[idx], 0)    # expand the dimension to make the input data.\n",
        "\n",
        "y_pred = my_predict(l1, l2, l3, X_input)    # calculate the prediction value.\n",
        "\n",
        "s_pred = mlp.predict(X_input)\n",
        "# print out all the values.\n",
        "print('My prediction is ' + str(y_pred[0]))\n",
        "print('sk prediction is ' + str(s_pred[0]))\n",
        "print('Actual number is ' + str(y_test[idx]))"
      ],
      "metadata": {
        "colab": {
          "base_uri": "https://localhost:8080/",
          "height": 511
        },
        "id": "_yImXJ_0pFsd",
        "outputId": "ab982125-0853-48e1-a332-a92cc3b1ef2f"
      },
      "execution_count": 15,
      "outputs": [
        {
          "output_type": "display_data",
          "data": {
            "text/plain": [
              "<Figure size 640x480 with 0 Axes>"
            ]
          },
          "metadata": {}
        },
        {
          "output_type": "display_data",
          "data": {
            "text/plain": [
              "<Figure size 480x480 with 1 Axes>"
            ],
            "image/png": "[encoded data removed]"
          },
          "metadata": {}
        },
        {
          "output_type": "stream",
          "name": "stdout",
          "text": [
            "My prediction is 3\n",
            "sk prediction is 3\n",
            "Actual number is 3\n"
          ]
        }
      ]
    }
  ]
}