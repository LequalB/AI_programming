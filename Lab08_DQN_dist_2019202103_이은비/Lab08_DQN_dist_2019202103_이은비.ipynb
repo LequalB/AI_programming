{
  "nbformat": 4,
  "nbformat_minor": 0,
  "metadata": {
    "colab": {
      "provenance": [],
      "gpuType": "T4"
    },
    "kernelspec": {
      "name": "python3",
      "display_name": "Python 3"
    },
    "language_info": {
      "name": "python"
    },
    "accelerator": "GPU",
    "widgets": {
      "application/vnd.jupyter.widget-state+json": {
        "3268f5b0d72b4353a0f86e675a7de6f2": {
          "model_module": "@jupyter-widgets/controls",
          "model_name": "HBoxModel",
          "model_module_version": "1.5.0",
          "state": {
            "_dom_classes": [],
            "_model_module": "@jupyter-widgets/controls",
            "_model_module_version": "1.5.0",
            "_model_name": "HBoxModel",
            "_view_count": null,
            "_view_module": "@jupyter-widgets/controls",
            "_view_module_version": "1.5.0",
            "_view_name": "HBoxView",
            "box_style": "",
            "children": [
              "IPY_MODEL_3477861516864e19b905b3319b981932",
              "IPY_MODEL_af00bd3e08864484a928fef0d047062c",
              "IPY_MODEL_448ecd9c47e443088332306a3b83e947"
            ],
            "layout": "IPY_MODEL_ef24ef62a73640369b5eb50f49057b1e"
          }
        },
        "3477861516864e19b905b3319b981932": {
          "model_module": "@jupyter-widgets/controls",
          "model_name": "HTMLModel",
          "model_module_version": "1.5.0",
          "state": {
            "_dom_classes": [],
            "_model_module": "@jupyter-widgets/controls",
            "_model_module_version": "1.5.0",
            "_model_name": "HTMLModel",
            "_view_count": null,
            "_view_module": "@jupyter-widgets/controls",
            "_view_module_version": "1.5.0",
            "_view_name": "HTMLView",
            "description": "",
            "description_tooltip": null,
            "layout": "IPY_MODEL_05fab080c86b412f9a50ad6c7436fe41",
            "placeholder": "​",
            "style": "IPY_MODEL_bd17690869c44dba857c09d7b12776fb",
            "value": ""
          }
        },
        "af00bd3e08864484a928fef0d047062c": {
          "model_module": "@jupyter-widgets/controls",
          "model_name": "FloatProgressModel",
          "model_module_version": "1.5.0",
          "state": {
            "_dom_classes": [],
            "_model_module": "@jupyter-widgets/controls",
            "_model_module_version": "1.5.0",
            "_model_name": "FloatProgressModel",
            "_view_count": null,
            "_view_module": "@jupyter-widgets/controls",
            "_view_module_version": "1.5.0",
            "_view_name": "ProgressView",
            "bar_style": "danger",
            "description": "",
            "description_tooltip": null,
            "layout": "IPY_MODEL_9057def389dd48fc91043f85ffcbcadb",
            "max": 30000,
            "min": 0,
            "orientation": "horizontal",
            "style": "IPY_MODEL_26437296ead84ff38263b70c0e6d2521",
            "value": 5518
          }
        },
        "448ecd9c47e443088332306a3b83e947": {
          "model_module": "@jupyter-widgets/controls",
          "model_name": "HTMLModel",
          "model_module_version": "1.5.0",
          "state": {
            "_dom_classes": [],
            "_model_module": "@jupyter-widgets/controls",
            "_model_module_version": "1.5.0",
            "_model_name": "HTMLModel",
            "_view_count": null,
            "_view_module": "@jupyter-widgets/controls",
            "_view_module_version": "1.5.0",
            "_view_name": "HTMLView",
            "description": "",
            "description_tooltip": null,
            "layout": "IPY_MODEL_d6a07f01b82b478e9ff5d707bcfa3466",
            "placeholder": "​",
            "style": "IPY_MODEL_53f4048467fa48789778cb0994a20747",
            "value": " 18%|█▊        | 5518/30000 [09:18&lt;33:44, 12.09it/s, episode=42, loss=0.0937, reward=500, steps=0]"
          }
        },
        "ef24ef62a73640369b5eb50f49057b1e": {
          "model_module": "@jupyter-widgets/base",
          "model_name": "LayoutModel",
          "model_module_version": "1.2.0",
          "state": {
            "_model_module": "@jupyter-widgets/base",
            "_model_module_version": "1.2.0",
            "_model_name": "LayoutModel",
            "_view_count": null,
            "_view_module": "@jupyter-widgets/base",
            "_view_module_version": "1.2.0",
            "_view_name": "LayoutView",
            "align_content": null,
            "align_items": null,
            "align_self": null,
            "border": null,
            "bottom": null,
            "display": null,
            "flex": null,
            "flex_flow": null,
            "grid_area": null,
            "grid_auto_columns": null,
            "grid_auto_flow": null,
            "grid_auto_rows": null,
            "grid_column": null,
            "grid_gap": null,
            "grid_row": null,
            "grid_template_areas": null,
            "grid_template_columns": null,
            "grid_template_rows": null,
            "height": null,
            "justify_content": null,
            "justify_items": null,
            "left": null,
            "margin": null,
            "max_height": null,
            "max_width": null,
            "min_height": null,
            "min_width": null,
            "object_fit": null,
            "object_position": null,
            "order": null,
            "overflow": null,
            "overflow_x": null,
            "overflow_y": null,
            "padding": null,
            "right": null,
            "top": null,
            "visibility": null,
            "width": null
          }
        },
        "05fab080c86b412f9a50ad6c7436fe41": {
          "model_module": "@jupyter-widgets/base",
          "model_name": "LayoutModel",
          "model_module_version": "1.2.0",
          "state": {
            "_model_module": "@jupyter-widgets/base",
            "_model_module_version": "1.2.0",
            "_model_name": "LayoutModel",
            "_view_count": null,
            "_view_module": "@jupyter-widgets/base",
            "_view_module_version": "1.2.0",
            "_view_name": "LayoutView",
            "align_content": null,
            "align_items": null,
            "align_self": null,
            "border": null,
            "bottom": null,
            "display": null,
            "flex": null,
            "flex_flow": null,
            "grid_area": null,
            "grid_auto_columns": null,
            "grid_auto_flow": null,
            "grid_auto_rows": null,
            "grid_column": null,
            "grid_gap": null,
            "grid_row": null,
            "grid_template_areas": null,
            "grid_template_columns": null,
            "grid_template_rows": null,
            "height": null,
            "justify_content": null,
            "justify_items": null,
            "left": null,
            "margin": null,
            "max_height": null,
            "max_width": null,
            "min_height": null,
            "min_width": null,
            "object_fit": null,
            "object_position": null,
            "order": null,
            "overflow": null,
            "overflow_x": null,
            "overflow_y": null,
            "padding": null,
            "right": null,
            "top": null,
            "visibility": null,
            "width": null
          }
        },
        "bd17690869c44dba857c09d7b12776fb": {
          "model_module": "@jupyter-widgets/controls",
          "model_name": "DescriptionStyleModel",
          "model_module_version": "1.5.0",
          "state": {
            "_model_module": "@jupyter-widgets/controls",
            "_model_module_version": "1.5.0",
            "_model_name": "DescriptionStyleModel",
            "_view_count": null,
            "_view_module": "@jupyter-widgets/base",
            "_view_module_version": "1.2.0",
            "_view_name": "StyleView",
            "description_width": ""
          }
        },
        "9057def389dd48fc91043f85ffcbcadb": {
          "model_module": "@jupyter-widgets/base",
          "model_name": "LayoutModel",
          "model_module_version": "1.2.0",
          "state": {
            "_model_module": "@jupyter-widgets/base",
            "_model_module_version": "1.2.0",
            "_model_name": "LayoutModel",
            "_view_count": null,
            "_view_module": "@jupyter-widgets/base",
            "_view_module_version": "1.2.0",
            "_view_name": "LayoutView",
            "align_content": null,
            "align_items": null,
            "align_self": null,
            "border": null,
            "bottom": null,
            "display": null,
            "flex": null,
            "flex_flow": null,
            "grid_area": null,
            "grid_auto_columns": null,
            "grid_auto_flow": null,
            "grid_auto_rows": null,
            "grid_column": null,
            "grid_gap": null,
            "grid_row": null,
            "grid_template_areas": null,
            "grid_template_columns": null,
            "grid_template_rows": null,
            "height": null,
            "justify_content": null,
            "justify_items": null,
            "left": null,
            "margin": null,
            "max_height": null,
            "max_width": null,
            "min_height": null,
            "min_width": null,
            "object_fit": null,
            "object_position": null,
            "order": null,
            "overflow": null,
            "overflow_x": null,
            "overflow_y": null,
            "padding": null,
            "right": null,
            "top": null,
            "visibility": null,
            "width": null
          }
        },
        "26437296ead84ff38263b70c0e6d2521": {
          "model_module": "@jupyter-widgets/controls",
          "model_name": "ProgressStyleModel",
          "model_module_version": "1.5.0",
          "state": {
            "_model_module": "@jupyter-widgets/controls",
            "_model_module_version": "1.5.0",
            "_model_name": "ProgressStyleModel",
            "_view_count": null,
            "_view_module": "@jupyter-widgets/base",
            "_view_module_version": "1.2.0",
            "_view_name": "StyleView",
            "bar_color": null,
            "description_width": ""
          }
        },
        "d6a07f01b82b478e9ff5d707bcfa3466": {
          "model_module": "@jupyter-widgets/base",
          "model_name": "LayoutModel",
          "model_module_version": "1.2.0",
          "state": {
            "_model_module": "@jupyter-widgets/base",
            "_model_module_version": "1.2.0",
            "_model_name": "LayoutModel",
            "_view_count": null,
            "_view_module": "@jupyter-widgets/base",
            "_view_module_version": "1.2.0",
            "_view_name": "LayoutView",
            "align_content": null,
            "align_items": null,
            "align_self": null,
            "border": null,
            "bottom": null,
            "display": null,
            "flex": null,
            "flex_flow": null,
            "grid_area": null,
            "grid_auto_columns": null,
            "grid_auto_flow": null,
            "grid_auto_rows": null,
            "grid_column": null,
            "grid_gap": null,
            "grid_row": null,
            "grid_template_areas": null,
            "grid_template_columns": null,
            "grid_template_rows": null,
            "height": null,
            "justify_content": null,
            "justify_items": null,
            "left": null,
            "margin": null,
            "max_height": null,
            "max_width": null,
            "min_height": null,
            "min_width": null,
            "object_fit": null,
            "object_position": null,
            "order": null,
            "overflow": null,
            "overflow_x": null,
            "overflow_y": null,
            "padding": null,
            "right": null,
            "top": null,
            "visibility": null,
            "width": null
          }
        },
        "53f4048467fa48789778cb0994a20747": {
          "model_module": "@jupyter-widgets/controls",
          "model_name": "DescriptionStyleModel",
          "model_module_version": "1.5.0",
          "state": {
            "_model_module": "@jupyter-widgets/controls",
            "_model_module_version": "1.5.0",
            "_model_name": "DescriptionStyleModel",
            "_view_count": null,
            "_view_module": "@jupyter-widgets/base",
            "_view_module_version": "1.2.0",
            "_view_name": "StyleView",
            "description_width": ""
          }
        },
        "f8f68facd91b4e5195e7461aefe62397": {
          "model_module": "@jupyter-widgets/controls",
          "model_name": "HBoxModel",
          "model_module_version": "1.5.0",
          "state": {
            "_dom_classes": [],
            "_model_module": "@jupyter-widgets/controls",
            "_model_module_version": "1.5.0",
            "_model_name": "HBoxModel",
            "_view_count": null,
            "_view_module": "@jupyter-widgets/controls",
            "_view_module_version": "1.5.0",
            "_view_name": "HBoxView",
            "box_style": "",
            "children": [
              "IPY_MODEL_0303729ad23f42c29a4c668819d4c5d9",
              "IPY_MODEL_5ef6fff604ba42b5930e8d5a8d39eab1",
              "IPY_MODEL_2dcc8524046d46158c79299140262083"
            ],
            "layout": "IPY_MODEL_456d4e48d239451ebd04df648e5101f1"
          }
        },
        "0303729ad23f42c29a4c668819d4c5d9": {
          "model_module": "@jupyter-widgets/controls",
          "model_name": "HTMLModel",
          "model_module_version": "1.5.0",
          "state": {
            "_dom_classes": [],
            "_model_module": "@jupyter-widgets/controls",
            "_model_module_version": "1.5.0",
            "_model_name": "HTMLModel",
            "_view_count": null,
            "_view_module": "@jupyter-widgets/controls",
            "_view_module_version": "1.5.0",
            "_view_name": "HTMLView",
            "description": "",
            "description_tooltip": null,
            "layout": "IPY_MODEL_7fdc3d16be4747d08d5026fe90641309",
            "placeholder": "​",
            "style": "IPY_MODEL_de07b5231a6c4208b3c92c02975f551c",
            "value": "100%"
          }
        },
        "5ef6fff604ba42b5930e8d5a8d39eab1": {
          "model_module": "@jupyter-widgets/controls",
          "model_name": "FloatProgressModel",
          "model_module_version": "1.5.0",
          "state": {
            "_dom_classes": [],
            "_model_module": "@jupyter-widgets/controls",
            "_model_module_version": "1.5.0",
            "_model_name": "FloatProgressModel",
            "_view_count": null,
            "_view_module": "@jupyter-widgets/controls",
            "_view_module_version": "1.5.0",
            "_view_name": "ProgressView",
            "bar_style": "success",
            "description": "",
            "description_tooltip": null,
            "layout": "IPY_MODEL_722df2f9dc1049898ea2c05c0c76064f",
            "max": 20,
            "min": 0,
            "orientation": "horizontal",
            "style": "IPY_MODEL_3a007857d14e4abfad4f0fb554b16218",
            "value": 20
          }
        },
        "2dcc8524046d46158c79299140262083": {
          "model_module": "@jupyter-widgets/controls",
          "model_name": "HTMLModel",
          "model_module_version": "1.5.0",
          "state": {
            "_dom_classes": [],
            "_model_module": "@jupyter-widgets/controls",
            "_model_module_version": "1.5.0",
            "_model_name": "HTMLModel",
            "_view_count": null,
            "_view_module": "@jupyter-widgets/controls",
            "_view_module_version": "1.5.0",
            "_view_name": "HTMLView",
            "description": "",
            "description_tooltip": null,
            "layout": "IPY_MODEL_34db1d9747e34461a61eae692a7941bc",
            "placeholder": "​",
            "style": "IPY_MODEL_42219c096fdc433fb732f56dc069e125",
            "value": " 20/20 [00:26&lt;00:00,  1.43s/it]"
          }
        },
        "456d4e48d239451ebd04df648e5101f1": {
          "model_module": "@jupyter-widgets/base",
          "model_name": "LayoutModel",
          "model_module_version": "1.2.0",
          "state": {
            "_model_module": "@jupyter-widgets/base",
            "_model_module_version": "1.2.0",
            "_model_name": "LayoutModel",
            "_view_count": null,
            "_view_module": "@jupyter-widgets/base",
            "_view_module_version": "1.2.0",
            "_view_name": "LayoutView",
            "align_content": null,
            "align_items": null,
            "align_self": null,
            "border": null,
            "bottom": null,
            "display": null,
            "flex": null,
            "flex_flow": null,
            "grid_area": null,
            "grid_auto_columns": null,
            "grid_auto_flow": null,
            "grid_auto_rows": null,
            "grid_column": null,
            "grid_gap": null,
            "grid_row": null,
            "grid_template_areas": null,
            "grid_template_columns": null,
            "grid_template_rows": null,
            "height": null,
            "justify_content": null,
            "justify_items": null,
            "left": null,
            "margin": null,
            "max_height": null,
            "max_width": null,
            "min_height": null,
            "min_width": null,
            "object_fit": null,
            "object_position": null,
            "order": null,
            "overflow": null,
            "overflow_x": null,
            "overflow_y": null,
            "padding": null,
            "right": null,
            "top": null,
            "visibility": null,
            "width": null
          }
        },
        "7fdc3d16be4747d08d5026fe90641309": {
          "model_module": "@jupyter-widgets/base",
          "model_name": "LayoutModel",
          "model_module_version": "1.2.0",
          "state": {
            "_model_module": "@jupyter-widgets/base",
            "_model_module_version": "1.2.0",
            "_model_name": "LayoutModel",
            "_view_count": null,
            "_view_module": "@jupyter-widgets/base",
            "_view_module_version": "1.2.0",
            "_view_name": "LayoutView",
            "align_content": null,
            "align_items": null,
            "align_self": null,
            "border": null,
            "bottom": null,
            "display": null,
            "flex": null,
            "flex_flow": null,
            "grid_area": null,
            "grid_auto_columns": null,
            "grid_auto_flow": null,
            "grid_auto_rows": null,
            "grid_column": null,
            "grid_gap": null,
            "grid_row": null,
            "grid_template_areas": null,
            "grid_template_columns": null,
            "grid_template_rows": null,
            "height": null,
            "justify_content": null,
            "justify_items": null,
            "left": null,
            "margin": null,
            "max_height": null,
            "max_width": null,
            "min_height": null,
            "min_width": null,
            "object_fit": null,
            "object_position": null,
            "order": null,
            "overflow": null,
            "overflow_x": null,
            "overflow_y": null,
            "padding": null,
            "right": null,
            "top": null,
            "visibility": null,
            "width": null
          }
        },
        "de07b5231a6c4208b3c92c02975f551c": {
          "model_module": "@jupyter-widgets/controls",
          "model_name": "DescriptionStyleModel",
          "model_module_version": "1.5.0",
          "state": {
            "_model_module": "@jupyter-widgets/controls",
            "_model_module_version": "1.5.0",
            "_model_name": "DescriptionStyleModel",
            "_view_count": null,
            "_view_module": "@jupyter-widgets/base",
            "_view_module_version": "1.2.0",
            "_view_name": "StyleView",
            "description_width": ""
          }
        },
        "722df2f9dc1049898ea2c05c0c76064f": {
          "model_module": "@jupyter-widgets/base",
          "model_name": "LayoutModel",
          "model_module_version": "1.2.0",
          "state": {
            "_model_module": "@jupyter-widgets/base",
            "_model_module_version": "1.2.0",
            "_model_name": "LayoutModel",
            "_view_count": null,
            "_view_module": "@jupyter-widgets/base",
            "_view_module_version": "1.2.0",
            "_view_name": "LayoutView",
            "align_content": null,
            "align_items": null,
            "align_self": null,
            "border": null,
            "bottom": null,
            "display": null,
            "flex": null,
            "flex_flow": null,
            "grid_area": null,
            "grid_auto_columns": null,
            "grid_auto_flow": null,
            "grid_auto_rows": null,
            "grid_column": null,
            "grid_gap": null,
            "grid_row": null,
            "grid_template_areas": null,
            "grid_template_columns": null,
            "grid_template_rows": null,
            "height": null,
            "justify_content": null,
            "justify_items": null,
            "left": null,
            "margin": null,
            "max_height": null,
            "max_width": null,
            "min_height": null,
            "min_width": null,
            "object_fit": null,
            "object_position": null,
            "order": null,
            "overflow": null,
            "overflow_x": null,
            "overflow_y": null,
            "padding": null,
            "right": null,
            "top": null,
            "visibility": null,
            "width": null
          }
        },
        "3a007857d14e4abfad4f0fb554b16218": {
          "model_module": "@jupyter-widgets/controls",
          "model_name": "ProgressStyleModel",
          "model_module_version": "1.5.0",
          "state": {
            "_model_module": "@jupyter-widgets/controls",
            "_model_module_version": "1.5.0",
            "_model_name": "ProgressStyleModel",
            "_view_count": null,
            "_view_module": "@jupyter-widgets/base",
            "_view_module_version": "1.2.0",
            "_view_name": "StyleView",
            "bar_color": null,
            "description_width": ""
          }
        },
        "34db1d9747e34461a61eae692a7941bc": {
          "model_module": "@jupyter-widgets/base",
          "model_name": "LayoutModel",
          "model_module_version": "1.2.0",
          "state": {
            "_model_module": "@jupyter-widgets/base",
            "_model_module_version": "1.2.0",
            "_model_name": "LayoutModel",
            "_view_count": null,
            "_view_module": "@jupyter-widgets/base",
            "_view_module_version": "1.2.0",
            "_view_name": "LayoutView",
            "align_content": null,
            "align_items": null,
            "align_self": null,
            "border": null,
            "bottom": null,
            "display": null,
            "flex": null,
            "flex_flow": null,
            "grid_area": null,
            "grid_auto_columns": null,
            "grid_auto_flow": null,
            "grid_auto_rows": null,
            "grid_column": null,
            "grid_gap": null,
            "grid_row": null,
            "grid_template_areas": null,
            "grid_template_columns": null,
            "grid_template_rows": null,
            "height": null,
            "justify_content": null,
            "justify_items": null,
            "left": null,
            "margin": null,
            "max_height": null,
            "max_width": null,
            "min_height": null,
            "min_width": null,
            "object_fit": null,
            "object_position": null,
            "order": null,
            "overflow": null,
            "overflow_x": null,
            "overflow_y": null,
            "padding": null,
            "right": null,
            "top": null,
            "visibility": null,
            "width": null
          }
        },
        "42219c096fdc433fb732f56dc069e125": {
          "model_module": "@jupyter-widgets/controls",
          "model_name": "DescriptionStyleModel",
          "model_module_version": "1.5.0",
          "state": {
            "_model_module": "@jupyter-widgets/controls",
            "_model_module_version": "1.5.0",
            "_model_name": "DescriptionStyleModel",
            "_view_count": null,
            "_view_module": "@jupyter-widgets/base",
            "_view_module_version": "1.2.0",
            "_view_name": "StyleView",
            "description_width": ""
          }
        }
      }
    }
  },
  "cells": [
    {
      "cell_type": "code",
      "execution_count": 1,
      "metadata": {
        "id": "tB1-ERSxa8Gb"
      },
      "outputs": [],
      "source": [
        "# Prepate Library Packages for Deep Q learning Network\n",
        "# Check if this code runs in Colab\n",
        "RunningInCOLAB = 'google.colab' in str(get_ipython())\n",
        "\n",
        "# To prevent that some version of matplolib causes an openmp error\n",
        "import os\n",
        "os.environ[\"KMP_DUPLICATE_LIB_OK\"]=\"TRUE\""
      ]
    },
    {
      "cell_type": "code",
      "source": [
        "# Check if the code is running in a Colab environment.\n",
        "if RunningInCOLAB:\n",
        "    # If in Colab, install necessary packages.\n",
        "    # Gymnasium is installed with version 0.26.3 along with Box2D dependencies.\n",
        "    !pip install swig\n",
        "    !pip install gymnasium==0.26.3\n",
        "    !pip install gymnasium[box2d]\n",
        "    !pip install pygame\n",
        "    !pip install 'moviepy>=1.0.3'\n",
        "    # Import tqdm for Jupyter Notebooks in Colab.\n",
        "    from tqdm.notebook import tqdm\n",
        "else:\n",
        "    # If not in Colab, import tqdm for other environments.\n",
        "    from tqdm import tqdm"
      ],
      "metadata": {
        "colab": {
          "base_uri": "https://localhost:8080/"
        },
        "id": "xoSQ1qSJbK9A",
        "outputId": "4a10aade-b045-4bae-fc10-745d4d8490a7"
      },
      "execution_count": 2,
      "outputs": [
        {
          "output_type": "stream",
          "name": "stdout",
          "text": [
            "Collecting swig\n",
            "  Downloading swig-4.1.1.post1-py2.py3-none-manylinux_2_5_x86_64.manylinux1_x86_64.whl (1.8 MB)\n",
            "\u001b[2K     \u001b[90m━━━━━━━━━━━━━━━━━━━━━━━━━━━━━━━━━━━━━━━━\u001b[0m \u001b[32m1.8/1.8 MB\u001b[0m \u001b[31m7.5 MB/s\u001b[0m eta \u001b[36m0:00:00\u001b[0m\n",
            "\u001b[?25hInstalling collected packages: swig\n",
            "Successfully installed swig-4.1.1.post1\n",
            "Collecting gymnasium==0.26.3\n",
            "  Downloading Gymnasium-0.26.3-py3-none-any.whl (836 kB)\n",
            "\u001b[2K     \u001b[90m━━━━━━━━━━━━━━━━━━━━━━━━━━━━━━━━━━━━━━━━\u001b[0m \u001b[32m836.9/836.9 kB\u001b[0m \u001b[31m4.8 MB/s\u001b[0m eta \u001b[36m0:00:00\u001b[0m\n",
            "\u001b[?25hRequirement already satisfied: numpy>=1.18.0 in /usr/local/lib/python3.10/dist-packages (from gymnasium==0.26.3) (1.23.5)\n",
            "Requirement already satisfied: cloudpickle>=1.2.0 in /usr/local/lib/python3.10/dist-packages (from gymnasium==0.26.3) (2.2.1)\n",
            "Collecting gymnasium-notices>=0.0.1 (from gymnasium==0.26.3)\n",
            "  Downloading gymnasium_notices-0.0.1-py3-none-any.whl (2.8 kB)\n",
            "Installing collected packages: gymnasium-notices, gymnasium\n",
            "Successfully installed gymnasium-0.26.3 gymnasium-notices-0.0.1\n",
            "Requirement already satisfied: gymnasium[box2d] in /usr/local/lib/python3.10/dist-packages (0.26.3)\n",
            "Requirement already satisfied: numpy>=1.18.0 in /usr/local/lib/python3.10/dist-packages (from gymnasium[box2d]) (1.23.5)\n",
            "Requirement already satisfied: cloudpickle>=1.2.0 in /usr/local/lib/python3.10/dist-packages (from gymnasium[box2d]) (2.2.1)\n",
            "Requirement already satisfied: gymnasium-notices>=0.0.1 in /usr/local/lib/python3.10/dist-packages (from gymnasium[box2d]) (0.0.1)\n",
            "Collecting box2d-py==2.3.5 (from gymnasium[box2d])\n",
            "  Downloading box2d-py-2.3.5.tar.gz (374 kB)\n",
            "\u001b[2K     \u001b[90m━━━━━━━━━━━━━━━━━━━━━━━━━━━━━━━━━━━━━━━━\u001b[0m \u001b[32m374.4/374.4 kB\u001b[0m \u001b[31m2.3 MB/s\u001b[0m eta \u001b[36m0:00:00\u001b[0m\n",
            "\u001b[?25h  Preparing metadata (setup.py) ... \u001b[?25l\u001b[?25hdone\n",
            "Collecting pygame==2.1.0 (from gymnasium[box2d])\n",
            "  Downloading pygame-2.1.0-cp310-cp310-manylinux_2_17_x86_64.manylinux2014_x86_64.whl (18.3 MB)\n",
            "\u001b[2K     \u001b[90m━━━━━━━━━━━━━━━━━━━━━━━━━━━━━━━━━━━━━━━━\u001b[0m \u001b[32m18.3/18.3 MB\u001b[0m \u001b[31m63.9 MB/s\u001b[0m eta \u001b[36m0:00:00\u001b[0m\n",
            "\u001b[?25hRequirement already satisfied: swig==4.* in /usr/local/lib/python3.10/dist-packages (from gymnasium[box2d]) (4.1.1.post1)\n",
            "Building wheels for collected packages: box2d-py\n",
            "  Building wheel for box2d-py (setup.py) ... \u001b[?25l\u001b[?25hdone\n",
            "  Created wheel for box2d-py: filename=box2d_py-2.3.5-cp310-cp310-linux_x86_64.whl size=2373129 sha256=ebf1ba46246a8fe5a417e7caccdb29c3c43d7df2652dd1bfb246df43ea7a0890\n",
            "  Stored in directory: /root/.cache/pip/wheels/db/8f/6a/eaaadf056fba10a98d986f6dce954e6201ba3126926fc5ad9e\n",
            "Successfully built box2d-py\n",
            "Installing collected packages: box2d-py, pygame\n",
            "  Attempting uninstall: pygame\n",
            "    Found existing installation: pygame 2.5.2\n",
            "    Uninstalling pygame-2.5.2:\n",
            "      Successfully uninstalled pygame-2.5.2\n",
            "Successfully installed box2d-py-2.3.5 pygame-2.1.0\n",
            "Requirement already satisfied: pygame in /usr/local/lib/python3.10/dist-packages (2.1.0)\n",
            "Requirement already satisfied: moviepy>=1.0.3 in /usr/local/lib/python3.10/dist-packages (1.0.3)\n",
            "Requirement already satisfied: decorator<5.0,>=4.0.2 in /usr/local/lib/python3.10/dist-packages (from moviepy>=1.0.3) (4.4.2)\n",
            "Requirement already satisfied: tqdm<5.0,>=4.11.2 in /usr/local/lib/python3.10/dist-packages (from moviepy>=1.0.3) (4.66.1)\n",
            "Requirement already satisfied: requests<3.0,>=2.8.1 in /usr/local/lib/python3.10/dist-packages (from moviepy>=1.0.3) (2.31.0)\n",
            "Requirement already satisfied: proglog<=1.0.0 in /usr/local/lib/python3.10/dist-packages (from moviepy>=1.0.3) (0.1.10)\n",
            "Requirement already satisfied: numpy>=1.17.3 in /usr/local/lib/python3.10/dist-packages (from moviepy>=1.0.3) (1.23.5)\n",
            "Requirement already satisfied: imageio<3.0,>=2.5 in /usr/local/lib/python3.10/dist-packages (from moviepy>=1.0.3) (2.31.6)\n",
            "Requirement already satisfied: imageio-ffmpeg>=0.2.0 in /usr/local/lib/python3.10/dist-packages (from moviepy>=1.0.3) (0.4.9)\n",
            "Requirement already satisfied: pillow<10.1.0,>=8.3.2 in /usr/local/lib/python3.10/dist-packages (from imageio<3.0,>=2.5->moviepy>=1.0.3) (9.4.0)\n",
            "Requirement already satisfied: setuptools in /usr/local/lib/python3.10/dist-packages (from imageio-ffmpeg>=0.2.0->moviepy>=1.0.3) (67.7.2)\n",
            "Requirement already satisfied: charset-normalizer<4,>=2 in /usr/local/lib/python3.10/dist-packages (from requests<3.0,>=2.8.1->moviepy>=1.0.3) (3.3.2)\n",
            "Requirement already satisfied: idna<4,>=2.5 in /usr/local/lib/python3.10/dist-packages (from requests<3.0,>=2.8.1->moviepy>=1.0.3) (3.6)\n",
            "Requirement already satisfied: urllib3<3,>=1.21.1 in /usr/local/lib/python3.10/dist-packages (from requests<3.0,>=2.8.1->moviepy>=1.0.3) (2.0.7)\n",
            "Requirement already satisfied: certifi>=2017.4.17 in /usr/local/lib/python3.10/dist-packages (from requests<3.0,>=2.8.1->moviepy>=1.0.3) (2023.11.17)\n"
          ]
        }
      ]
    },
    {
      "cell_type": "code",
      "source": [
        "#import library and packages.\n",
        "import numpy as np  # import numpy for the calculation\n",
        "import tensorflow as tf   # import tensorflow to simulate the assignments\n",
        "import matplotlib.pyplot as plt # import matplot to plot the graph\n",
        "\n",
        "# Import Gymnasium library for reinforcement learning environments.\n",
        "import gymnasium as gym\n",
        "\n",
        "# Import Gymnasium wrappers for modifying environments.\n",
        "from gymnasium import wrappers\n",
        "\n",
        "# Import deque for creating a double-ended queue (often used in replay memory).\n",
        "from collections import deque\n",
        "\n",
        "# Import random for generating random numbers and making random selections.\n",
        "import random\n"
      ],
      "metadata": {
        "id": "yiwvSbW3bNb6"
      },
      "execution_count": 3,
      "outputs": []
    },
    {
      "cell_type": "code",
      "source": [
        "# Retrieve a list of physical devices (GPUs) available for TensorFlow.\n",
        "physical_devices = tf.config.list_physical_devices('GPU')\n",
        "print(physical_devices)\n",
        "\n",
        "# Try to set memory GPU.\n",
        "try:\n",
        "    # if available\n",
        "    tf.config.experimental.set_memory_growth(physical_devices[0], True)\n",
        "except:\n",
        "    # If no GPU is detected\n",
        "    print('GPU is not detected or an error occurred during configuration.')\n"
      ],
      "metadata": {
        "colab": {
          "base_uri": "https://localhost:8080/"
        },
        "id": "xiKJwO6BbPFm",
        "outputId": "f4f1483d-8caf-4d01-bfeb-12dac85a7a03"
      },
      "execution_count": 4,
      "outputs": [
        {
          "output_type": "stream",
          "name": "stdout",
          "text": [
            "[PhysicalDevice(name='/physical_device:GPU:0', device_type='GPU')]\n"
          ]
        }
      ]
    },
    {
      "cell_type": "code",
      "source": [
        "# check the gym version\n",
        "gym.__version__"
      ],
      "metadata": {
        "colab": {
          "base_uri": "https://localhost:8080/",
          "height": 35
        },
        "id": "kyA4ZRu-bRVa",
        "outputId": "073a5315-2884-4cf1-b306-363f9b35cbf0"
      },
      "execution_count": 5,
      "outputs": [
        {
          "output_type": "execute_result",
          "data": {
            "text/plain": [
              "'0.26.3'"
            ],
            "application/vnd.google.colaboratory.intrinsic+json": {
              "type": "string"
            }
          },
          "metadata": {},
          "execution_count": 5
        }
      ]
    },
    {
      "cell_type": "code",
      "source": [
        "# select evironment\n",
        "# Discrete Action Space:    0 for Cartpole, 1 for LunarLander\n",
        "\n",
        "SELECT_ENV = 0"
      ],
      "metadata": {
        "id": "E_o5cHSjbTVm"
      },
      "execution_count": 6,
      "outputs": []
    },
    {
      "cell_type": "code",
      "source": [
        "# Depending on the value of SELECT_ENV, different environments and settings are chosen.\n",
        "if SELECT_ENV == 0:\n",
        "    # For SELECT_ENV = 0, set up the CartPole environment.\n",
        "    env_name, res_prefix = 'CartPole-v1', 'cart'\n",
        "    max_episodes, max_ep_steps, goal_score = 500, 500, 450\n",
        "    network_type, state_width, state_height, state_depth = 'dense', 0, 0, 0\n",
        "    # Set render mode to 'rgb_array'.\n",
        "    kwargs = {'render_mode': 'rgb_array'}\n",
        "elif SELECT_ENV == 1:\n",
        "    # For SELECT_ENV = 1, set up the LunarLander environment.\n",
        "    env_name, res_prefix = 'LunarLander-v2', 'lunD'\n",
        "    max_episodes, max_ep_steps, goal_score = 500, 1000, 200\n",
        "    network_type, state_width, state_height, state_depth = 'dense', 0, 0, 0\n",
        "    # Set continuous mode to False and render mode to 'rgb_array'.\n",
        "    kwargs = {'continuous': False, 'render_mode': 'rgb_array'}\n",
        "else:\n",
        "    # if an incorrect environment selection is made, raise an error\n",
        "    assert False, 'environment selection error'\n",
        "\n",
        "# Function to create the selected environment with the specified settings.\n",
        "def create_env():\n",
        "    # create the Gym environment with the specified name and additional keyword arguments.\n",
        "    env = gym.make(env_name, **kwargs)\n",
        "    return env\n"
      ],
      "metadata": {
        "id": "m2HYzmEkbVNP"
      },
      "execution_count": 7,
      "outputs": []
    },
    {
      "cell_type": "code",
      "source": [
        "# Define the functions to reset and performs an acitons\n",
        "# Function that resets the environment to its initial state\n",
        "def env_reset(env):\n",
        "    observation = env.reset()\n",
        "    state = observation[0] if type(observation)==tuple else observation\n",
        "    return state\n",
        "# Function that performs an action in the environment and retrieves relevant information.\n",
        "def env_step(env, action):\n",
        "    observation = env.step(action)\n",
        "    state = observation[0]\n",
        "    reward = observation[1]\n",
        "    done = observation[2] or observation[3] if len(observation)>4 else observation[2]\n",
        "    return state, reward, done"
      ],
      "metadata": {
        "id": "3V-9LMjCbZCw"
      },
      "execution_count": 8,
      "outputs": []
    },
    {
      "cell_type": "code",
      "source": [
        "# create and update the variables\n",
        "# Create the Gym environment\n",
        "env = create_env()\n",
        "# Reset the environment and obtain the initial state.\n",
        "state = env_reset(env)\n",
        "# Retrieve the updated state, reward, and termination information after taking the action.\n",
        "state, reward, done = env_step(env, env.action_space.sample())"
      ],
      "metadata": {
        "id": "0sxq66mNbeTa"
      },
      "execution_count": 9,
      "outputs": []
    },
    {
      "cell_type": "code",
      "source": [
        "# Obtain information about the action space and its characteristics.\n",
        "action_shape = env.action_space.shape\n",
        "action_space_type = type(env.action_space)\n",
        "\n",
        "# Check the type of action space and set relevant properties accordingly.\n",
        "if action_space_type == gym.spaces.discrete.Discrete:\n",
        "    actn_space = 'DISCRETE'\n",
        "    action_shape = (1,)  # Shape of the action space for discrete actions\n",
        "    action_dims = 1\n",
        "    action_range = env.action_space.n  # Number of discrete actions available\n",
        "    num_actions = action_range  # Number of actions equals action range for DISCRETE actions\n",
        "    action_batch_shape = (None, action_range)  # Batch shape for action space\n",
        "elif action_space_type == gym.spaces.box.Box:\n",
        "    actn_space = 'CONTINUOUS'\n",
        "    action_dims = action_shape[0]  # Dimensions of the action space for continuous actions\n",
        "    actn_uppr_bound = env.action_space.high[0]  # Upper bounds of the continuous action space\n",
        "    actn_lowr_bound = env.action_space.low[0]  # Lower bounds of the continuous action space\n",
        "    action_range = (actn_uppr_bound - actn_lowr_bound)  # Range of the continuous action space\n",
        "    action_batch_shape = tuple([None] + [x for x in action_shape])  # Batch shape for action space\n",
        "    num_actions = action_dims  # Number of actions equals action dimension for CONTINUOUS actions\n",
        "else:\n",
        "    # Raise an assertion error if an unsupported action space type is encountered.\n",
        "    assert False, 'other action space types are not supported'\n",
        "\n",
        "# Obtain information about the observation space and its characteristics.\n",
        "observation_space_type = type(env.observation_space)\n",
        "observation_shape = env.observation_space.shape\n",
        "\n",
        "# Check the type of observation space and set relevant properties accordingly.\n",
        "if observation_space_type == gym.spaces.discrete.Discrete:\n",
        "    observation_shape = (1,)\n",
        "    num_states = env.observation_space.n  # Number of discrete states available\n",
        "elif observation_space_type == gym.spaces.box.Box:\n",
        "    num_states = observation_shape[0]  # Dimensions of the observation space for continuous states\n",
        "else:\n",
        "    print('observation space type error')  # Print an error message for unsupported observation space types\n",
        "\n",
        "# Set state shape and batch shape based on the selected environment type.\n",
        "if SELECT_ENV == 2 or SELECT_ENV == 3 or SELECT_ENV == 4 or SELECT_ENV == 7:\n",
        "    state_shape = (96, 96, 3)  # Define the state shape for specific environments\n",
        "    state_batch_shape = (None, 96, 96, 3)  # Define the batch shape for state for specific environments\n",
        "else:\n",
        "    state_shape = observation_shape  # Use observation shape as state shape for other environments\n",
        "    state_batch_shape = tuple([None] + [x for x in observation_shape])  # Define state batch shape\n",
        "\n",
        "value_shape = (1,)  # Define the shape of the value function output\n",
        "num_values = 1  # Define the number of values (commonly used in value-based algorithms)\n"
      ],
      "metadata": {
        "id": "YNDZVNLmbkRN"
      },
      "execution_count": 10,
      "outputs": []
    },
    {
      "cell_type": "code",
      "source": [
        "# print the information\n",
        "print('Action space ', action_space_type)\n",
        "print('Action shape ', action_shape)\n",
        "print('Action dimensions ', action_dims)\n",
        "print('Action range ', action_range)\n",
        "if action_space_type==gym.spaces.box.Box:\n",
        "    print('Max Value of Action ', actn_uppr_bound)\n",
        "    print('Min Value of Action ', actn_lowr_bound)\n",
        "else: pass\n",
        "print('Action batch shape ', action_batch_shape)\n",
        "\n",
        "print('Observation space ', observation_space_type)\n",
        "print('Observation shape ', observation_shape)\n",
        "print('Size of State Space ', num_states)\n",
        "print('State shape ', state_shape)\n",
        "print('State batch shape ', state_batch_shape)\n",
        "\n",
        "print('Vallue shape ', value_shape)\n",
        "print('Value dimensions ', num_values)"
      ],
      "metadata": {
        "colab": {
          "base_uri": "https://localhost:8080/"
        },
        "id": "SlaCeN8YbmDB",
        "outputId": "41f498c4-7c0b-4b1d-e400-bcd52a19d4b1"
      },
      "execution_count": 11,
      "outputs": [
        {
          "output_type": "stream",
          "name": "stdout",
          "text": [
            "Action space  <class 'gymnasium.spaces.discrete.Discrete'>\n",
            "Action shape  (1,)\n",
            "Action dimensions  1\n",
            "Action range  2\n",
            "Action batch shape  (None, 2)\n",
            "Observation space  <class 'gymnasium.spaces.box.Box'>\n",
            "Observation shape  (4,)\n",
            "Size of State Space  4\n",
            "State shape  (4,)\n",
            "State batch shape  (None, 4)\n",
            "Vallue shape  (1,)\n",
            "Value dimensions  1\n"
          ]
        }
      ]
    },
    {
      "cell_type": "code",
      "source": [
        "# Define the DQNet function with the parameter and define the layers and build\n",
        "def DQNet(hiddens, act_fn, out_fn, init_fn):    # hiddends = (layer1 units, layer2 units)\n",
        "    inputs = tf.keras.Input(shape=state_shape)  # input layer\n",
        "\n",
        "    ### START CODE HERE ###\n",
        "    # Define the architecture with specified hidden layers and activation functions.\n",
        "    l1 = tf.keras.layers.Dense(units=hiddens[0], activation=act_fn, kernel_initializer=init_fn)(inputs)  # first fully connected layer\n",
        "    l2 = tf.keras.layers.Dense(units=hiddens[1], activation=act_fn, kernel_initializer=init_fn)(l1)  # second fully connected layer\n",
        "    # Define the output layer for estimating Q-values for each action.\n",
        "    outputs = tf.keras.layers.Dense(units=num_actions, activation=out_fn, kernel_initializer=init_fn)(l2)  # output (third) layer\n",
        "\n",
        "    ###  END CODE HERE  ###\n",
        "    # Create the Keras Model using input and output layers and name it 'q_net'.\n",
        "    model = tf.keras.Model(inputs=inputs, outputs=outputs, name='q_net')\n",
        "    return model\n",
        "\n",
        "# Create a DQN model with default configuration.\n",
        "def build_DQNet():\n",
        "    model = DQNet(hiddens=(32,32), act_fn='relu', out_fn='linear', init_fn='he_uniform')\n",
        "    return model"
      ],
      "metadata": {
        "id": "v9TK57YwbnpM"
      },
      "execution_count": 12,
      "outputs": []
    },
    {
      "cell_type": "code",
      "source": [
        "# Define policy functions\n",
        "class Agent_Net:\n",
        "    def __init__(self): # Initialize policy and target networks by building DQN models\n",
        "        self.policy_q = build_DQNet()             # Build policy network\n",
        "        self.target_q = build_DQNet()             # Build target network\n",
        "        self.target_update()                      # Copy weights from policy to target\n",
        "\n",
        "    def policy(self, state, epsilon, exploring):  # E-greedy policy if exploring==True\n",
        "        state_input = tf.convert_to_tensor(state[None, ...], dtype=tf.float32)  # Make the state network-ready\n",
        "\n",
        "        if exploring:                            # If in exploration mode\n",
        "            if tf.random.uniform(()) > epsilon:  # Exploit if random > epsilon\n",
        "                action_q = self.policy_q(state_input)[0]\n",
        "                action = tf.argmax(action_q).numpy()  # Find action for maximum Q-value\n",
        "            else:                                # Explore else\n",
        "                action = np.random.randint(num_actions)  # Random action\n",
        "        else:                                   # If exploiting (greedy policy)\n",
        "            action_q = self.policy_q(state_input)[0]\n",
        "            action = tf.argmax(action_q).numpy()  # Find action for maximum Q-value\n",
        "\n",
        "        return action\n",
        "\n",
        "    def target_update(self):\n",
        "        self.target_q.set_weights(self.policy_q.get_weights())  # Copy weights from policy network to target network\n"
      ],
      "metadata": {
        "id": "VoatLzAubpdj"
      },
      "execution_count": 13,
      "outputs": []
    },
    {
      "cell_type": "code",
      "source": [
        "# Create an instance of the Agent_Net class\n",
        "agent = Agent_Net()\n",
        "# Call the summary() method on the policy_q network to display a summary of its architecture.\n",
        "agent.policy_q.summary()"
      ],
      "metadata": {
        "colab": {
          "base_uri": "https://localhost:8080/"
        },
        "id": "UPLYJxXdbqy_",
        "outputId": "3b17641b-d501-4845-c57e-a9e110d9b53c"
      },
      "execution_count": 14,
      "outputs": [
        {
          "output_type": "stream",
          "name": "stdout",
          "text": [
            "Model: \"q_net\"\n",
            "_________________________________________________________________\n",
            " Layer (type)                Output Shape              Param #   \n",
            "=================================================================\n",
            " input_1 (InputLayer)        [(None, 4)]               0         \n",
            "                                                                 \n",
            " dense (Dense)               (None, 32)                160       \n",
            "                                                                 \n",
            " dense_1 (Dense)             (None, 32)                1056      \n",
            "                                                                 \n",
            " dense_2 (Dense)             (None, 2)                 66        \n",
            "                                                                 \n",
            "=================================================================\n",
            "Total params: 1282 (5.01 KB)\n",
            "Trainable params: 1282 (5.01 KB)\n",
            "Non-trainable params: 0 (0.00 Byte)\n",
            "_________________________________________________________________\n"
          ]
        }
      ]
    },
    {
      "cell_type": "code",
      "source": [
        "# Define and Initialize replay memory\n",
        "class ReplayMemory:\n",
        "    def __init__(self, memory_size):  # Initialize replay memory using deque with a maximum size\n",
        "        self.experiences = deque(maxlen=memory_size)    # allocate replay memory\n",
        "        self.num_episodes = 0                           # Initialize the number of episodes to zero\n",
        "\n",
        "    def put_experience(self, experience):               # put an experience into replay memory\n",
        "        state, action, next_state, reward, not_done = experience\n",
        "        self.experiences.append((state, action, next_state, reward, not_done))\n",
        "        return\n",
        "\n",
        "    def get_batch(self, num_samples):                   # get a batch of randomly sampled experiences\n",
        "        state_batch, next_state_batch, action_batch, reward_batch, not_done_batch = [], [], [], [], []\n",
        "        # Randomly sample a batch of experiences from the replay memory\n",
        "        sample_batch = random.sample(self.experiences, num_samples)\n",
        "        # Iterate through the sample for each experience component (batches)\n",
        "        for sample in sample_batch:\n",
        "            state, action, next_state, reward, not_done = sample\n",
        "            state_batch.append(state)\n",
        "            action_batch.append(action)\n",
        "            next_state_batch.append(next_state)\n",
        "            reward_batch.append(reward)\n",
        "            not_done_batch.append(not_done)\n",
        "        # Convert the lists into TensorFlow tensors and create a batch tuple\n",
        "        batch = (tf.convert_to_tensor(state_batch, dtype=tf.float32),\n",
        "                tf.convert_to_tensor(action_batch, dtype=tf.int32),\n",
        "                tf.convert_to_tensor(next_state_batch, dtype=tf.float32),\n",
        "                tf.convert_to_tensor(reward_batch, dtype=tf.float32),\n",
        "                tf.convert_to_tensor(not_done_batch, dtype=tf.float32))\n",
        "        return batch"
      ],
      "metadata": {
        "id": "Y0cRxHz7bvnE"
      },
      "execution_count": 15,
      "outputs": []
    },
    {
      "cell_type": "code",
      "source": [
        "# define the function to initialize the memory\n",
        "def init_memory(mem, env, agent, num_samples):\n",
        "    state = env_reset(env)  # initialize the environment\n",
        "    for _ in range(num_samples):\n",
        "\n",
        "        ### START CODE HERE ###\n",
        "\n",
        "        action = agent.policy(state, epsilon=0.1, exploring=True)  # get an action with the policy\n",
        "        next_state, reward, done = env_step(env, action)  # observe the environment reaction\n",
        "        experience = (state, action, next_state, reward, not done)  # pack observations into an experience tuple\n",
        "        mem.put_experience(experience)  # put the experience into replay memory\n",
        "        if done:\n",
        "            state = env_reset(env)  # if episode is done, reset the environment\n",
        "        else:\n",
        "            state = next_state  # else, go to the next state\n",
        "\n",
        "        ###  END CODE HERE  ###\n",
        "\n",
        "    return\n",
        "\n"
      ],
      "metadata": {
        "id": "1eQvsJFCbxRe"
      },
      "execution_count": 16,
      "outputs": []
    },
    {
      "cell_type": "code",
      "source": [
        "# define one step of training loop\n",
        "def dqn_train(agent, batch, config):\n",
        "    state_b, action_b, next_state_b, reward_b, not_done_b = batch\n",
        "\n",
        "    ### START CODE HERE ###\n",
        "\n",
        "    curr_q = agent.policy_q(state_b).numpy()  # get Q-values for current states using the policy network (b, a)\n",
        "    next_q = agent.target_q(next_state_b).numpy()  # get Q-values for next states using the target network (b, a)\n",
        "    max_next_q = np.max(next_q, axis=1)  # find the maximum Q-value for each next state (b,)\n",
        "\n",
        "    gamma = getattr(config, 'gamma', 0.99)  # access the gamma value from config (default to 0.99 if not found)\n",
        "    target_reward = reward_b + gamma * max_next_q * not_done_b  # calculate target Q-value (b,)\n",
        "\n",
        "    action_v = tf.one_hot(action_b, depth=getattr(config, 'num_actions', 0))  # one-hot encode actions (b, a)\n",
        "    label_q = curr_q.copy()  # make a copy of the current Q-values for loss calculation\n",
        "    label_q[np.arange(label_q.shape[0]), action_b] = target_reward  # update Q-value for taken action with target reward\n",
        "\n",
        "    logs = agent.policy_q.fit(state_b, label_q, verbose=0)  # train the policy network using the batch, suppressing verbosity\n",
        "\n",
        "    ###  END CODE HERE  ###\n",
        "\n",
        "    loss = logs.history['loss'][-1]\n",
        "    return loss\n"
      ],
      "metadata": {
        "id": "AIQssHtOR9dC"
      },
      "execution_count": 17,
      "outputs": []
    },
    {
      "cell_type": "code",
      "source": [
        "# define the evaluation function for policy\n",
        "def evaluate_policy(env, agent, num_avg):\n",
        "    total_reward = 0.0  # Initialize total reward across episodes\n",
        "    episodes_to_play = num_avg  # Number of episodes to play for averaging\n",
        "    for i in range(episodes_to_play):  # Play n episodes and take the average\n",
        "        state = env_reset(env)  # Reset the environment to start a new episode\n",
        "        done = False  # Flag to denote episode completion\n",
        "        episode_reward = 0.0  # Initialize reward accumulated within an episode\n",
        "\n",
        "        while not done:\n",
        "            # Get an action with the policy\n",
        "            action = agent.policy(state, epsilon=0.0, exploring=False)\n",
        "\n",
        "            # Take action and observe outcomes\n",
        "            next_state, reward, done = env_step(env, action)\n",
        "\n",
        "            state = next_state  # Update the state for the next step\n",
        "            episode_reward += reward  # Accumulate the reward obtained\n",
        "        total_reward += episode_reward  # Accumulate the total reward across episodes\n",
        "    average_reward = total_reward / episodes_to_play  # Calculate the average reward per episode\n",
        "\n",
        "    return average_reward\n"
      ],
      "metadata": {
        "id": "LN1ORifEb0T4"
      },
      "execution_count": 18,
      "outputs": []
    },
    {
      "cell_type": "code",
      "source": [
        "# Exploration parameters for epsilon greedy strategy\n",
        "class Epsilon:\n",
        "    def __init__(self, max_steps):\n",
        "        self.explore_start = 1.0            # exploration probability at start\n",
        "        self.explore_stop = 0.01            # minimum exploration probability\n",
        "        self.decay_rate = 20.0/max_steps    # exponential decay rate for exploration prob (4.6 ~ max_step)\n",
        "        self.steps = 0\n",
        "\n",
        "    def get_epsilon(self):\n",
        "        eps = (self.explore_stop\n",
        "            + (self.explore_start - self.explore_stop) * tf.math.exp(-self.decay_rate * self.steps))\n",
        "        self.steps += 1\n",
        "        return eps"
      ],
      "metadata": {
        "id": "9R17Oc_zb1rr"
      },
      "execution_count": 19,
      "outputs": []
    },
    {
      "cell_type": "code",
      "source": [
        "# Define and Initializle hyperparameters\n",
        "class configuration:\n",
        "    def __init__(self):\n",
        "        self.gamma = 0.99   # discount rate\n",
        "        self.lr = 1e-3      # learning rate\n",
        "\n",
        "config = configuration()"
      ],
      "metadata": {
        "id": "zAupFPReb3LS"
      },
      "execution_count": 20,
      "outputs": []
    },
    {
      "cell_type": "code",
      "source": [
        "# Set the parameters\n",
        "max_episodes = 500\n",
        "max_steps = 30000\n",
        "batch_size = 128\n",
        "\n",
        "memory_size = 2000\n",
        "\n",
        "memD = ReplayMemory(memory_size)\n",
        "init_memory(memD, env, agent, 1000)\n",
        "epsF = Epsilon(max_steps)\n",
        "\n",
        "agent.policy_q.compile(optimizer=tf.optimizers.Adam(learning_rate=config.lr), loss='mse')"
      ],
      "metadata": {
        "id": "_-QAdOCJb5el"
      },
      "execution_count": 21,
      "outputs": []
    },
    {
      "cell_type": "code",
      "source": [
        "# define main training loop\n",
        "logs = tf.keras.callbacks.History()\n",
        "logs.history.update({'pi_loss':[]})\n",
        "logs.history.update({'ereward':[]})\n",
        "logs.history.update({'e-steps':[]})\n",
        "logs.history.update({'vreward':[]})\n",
        "\n",
        "# variables for simulation\n",
        "num_episodes = 0\n",
        "val_episodes = 5            # exit condition\n",
        "\n",
        "# variables for episode logging\n",
        "pi_loss = 0.0\n",
        "\n",
        "loss_sum = 0.0\n",
        "epis_steps = 0\n",
        "epis_reward = 0.0\n",
        "eval_reward = -float('inf')\n",
        "\n",
        "# initialize training variables\n",
        "epsilon = 1.0\n",
        "next_state = None\n",
        "done = True\n",
        "\n",
        "pbar = tqdm(range(max_steps), bar_format='{l_bar}{bar:10}{r_bar}{bar:-10b}')\n",
        "\n",
        "for sim_steps in pbar:\n",
        "\n",
        "    state = env_reset(env) if done else next_state  # get the current state\n",
        "    action = agent.policy(state, epsilon, exploring=True)  # find an action with epsilon-greedy\n",
        "    next_state, reward, done = env_step(env, action)  # take action and observe outcomes\n",
        "\n",
        "    experience = (state, action, next_state, reward, not done)  # pack observations into a new experience\n",
        "    memD.put_experience(experience)  # put a new experience to replay buffer\n",
        "\n",
        "    batch = memD.get_batch(batch_size)  # get a new batch from replay buffer\n",
        "    step_pi_loss = dqn_train(agent, batch, config)  # train DQN for a step\n",
        "\n",
        "    epsilon = epsF.get_epsilon()  # update decay epsilon value\n",
        "\n",
        "    loss_sum += step_pi_loss  # accumulate policy loss for a step\n",
        "    epis_reward += reward  # accumulate reward for a step\n",
        "    epis_steps += 1  # increase the number of steps for an episode\n",
        "\n",
        "    if done:\n",
        "        agent.target_update()  # update target network whenever episode ends\n",
        "        memD.num_episodes += 1  # increase number of episodes simulated\n",
        "\n",
        "        pi_loss = loss_sum / epis_steps  # average policy loss for an episode\n",
        "\n",
        "        pbar.set_postfix({'episode': num_episodes, 'loss': step_pi_loss, 'reward': eval_reward, 'steps': epis_steps, 'evaluating': val_episodes})\n",
        "        eval_reward = evaluate_policy(env, agent, 1)  # evaluate policy one time\n",
        "\n",
        "        logs.history['pi_loss'].extend([pi_loss])\n",
        "        logs.history['ereward'].extend([epis_reward])\n",
        "        logs.history['e-steps'].extend([epis_steps])\n",
        "        logs.history['vreward'].extend([eval_reward])\n",
        "\n",
        "        loss_sum = 0.0\n",
        "        epis_reward = 0.0\n",
        "        epis_steps = 0\n",
        "        num_episodes += 1\n",
        "    else:\n",
        "        pass\n",
        "\n",
        "    pbar.set_postfix({'episode': num_episodes, 'loss': step_pi_loss, 'reward': eval_reward, 'steps': epis_steps})\n",
        "\n",
        "    # conditions to stop simulation\n",
        "    if eval_reward > goal_score:\n",
        "        eval_reward = evaluate_policy(env, agent, val_episodes)  # evaluate policy multiple times\n",
        "    if eval_reward > goal_score:\n",
        "        break\n",
        "    if num_episodes > max_episodes:\n",
        "        break\n",
        "\n",
        "print('episodes:{0:5d}, loss:{1:7.5f}, val_reward {2:4.2f}'.format(num_episodes, pi_loss, eval_reward))\n",
        "print('total steps:', sim_steps+1)\n"
      ],
      "metadata": {
        "id": "AqOmtYyeb8pk",
        "colab": {
          "base_uri": "https://localhost:8080/",
          "height": 113,
          "referenced_widgets": [
            "3268f5b0d72b4353a0f86e675a7de6f2",
            "3477861516864e19b905b3319b981932",
            "af00bd3e08864484a928fef0d047062c",
            "448ecd9c47e443088332306a3b83e947",
            "ef24ef62a73640369b5eb50f49057b1e",
            "05fab080c86b412f9a50ad6c7436fe41",
            "bd17690869c44dba857c09d7b12776fb",
            "9057def389dd48fc91043f85ffcbcadb",
            "26437296ead84ff38263b70c0e6d2521",
            "d6a07f01b82b478e9ff5d707bcfa3466",
            "53f4048467fa48789778cb0994a20747"
          ]
        },
        "outputId": "aa12702a-f9b8-4fcd-c17b-e3149b8e98d8"
      },
      "execution_count": 22,
      "outputs": [
        {
          "output_type": "display_data",
          "data": {
            "text/plain": [
              "  0%|          | 0/30000 [00:00<?, ?it/s]"
            ],
            "application/vnd.jupyter.widget-view+json": {
              "version_major": 2,
              "version_minor": 0,
              "model_id": "3268f5b0d72b4353a0f86e675a7de6f2"
            }
          },
          "metadata": {}
        },
        {
          "output_type": "stream",
          "name": "stdout",
          "text": [
            "episodes:   42, loss:1.42750, val_reward 470.80\n",
            "total steps: 5519\n"
          ]
        }
      ]
    },
    {
      "cell_type": "code",
      "source": [
        "# plot loss and accuracy\n",
        "def plot_graphs(log_history, log_labels, graph_labels, graph_colors=['b-','g-']):\n",
        "    num_graphs = len(log_labels)\n",
        "    plt.figure(figsize=(5*num_graphs,4))\n",
        "    for i in range(num_graphs):\n",
        "        plt.subplot(1,num_graphs,i+1)\n",
        "        plt.plot(log_history[log_labels[i]], graph_colors[i], label=graph_labels[i])\n",
        "        plt.xlabel('episodes')\n",
        "        plt.legend()\n",
        "    plt.show()\n",
        "    return\n",
        "\n",
        "log_labels    = ['pi_loss', 'vreward']\n",
        "label_strings = ['loss', 'reward']\n",
        "label_colors  = ['b-', 'g-']\n",
        "plot_graphs(logs.history, log_labels, label_strings, label_colors)"
      ],
      "metadata": {
        "id": "iaRTbSPeb_LK",
        "colab": {
          "base_uri": "https://localhost:8080/",
          "height": 345
        },
        "outputId": "3bcab3e0-a63d-444e-ccbb-a8923643eeb5"
      },
      "execution_count": 23,
      "outputs": [
        {
          "output_type": "display_data",
          "data": {
            "text/plain": [
              "<Figure size 1000x400 with 2 Axes>"
            ],
            "image/png": "[encoded data removed]"
          },
          "metadata": {}
        }
      ]
    },
    {
      "cell_type": "code",
      "source": [
        "# Evaluate the Agent\n",
        "evaluate_episodes = 20\n",
        "sum_episode_rewards = 0.0\n",
        "pbar = tqdm(range(evaluate_episodes))\n",
        "\n",
        "for i in pbar:\n",
        "    sum_episode_rewards += evaluate_policy(env, agent, 1)\n",
        "\n",
        "print('Evaluation Result:',  sum_episode_rewards/evaluate_episodes)"
      ],
      "metadata": {
        "id": "Q5Cm_rlEcBKS",
        "colab": {
          "base_uri": "https://localhost:8080/",
          "height": 67,
          "referenced_widgets": [
            "f8f68facd91b4e5195e7461aefe62397",
            "0303729ad23f42c29a4c668819d4c5d9",
            "5ef6fff604ba42b5930e8d5a8d39eab1",
            "2dcc8524046d46158c79299140262083",
            "456d4e48d239451ebd04df648e5101f1",
            "7fdc3d16be4747d08d5026fe90641309",
            "de07b5231a6c4208b3c92c02975f551c",
            "722df2f9dc1049898ea2c05c0c76064f",
            "3a007857d14e4abfad4f0fb554b16218",
            "34db1d9747e34461a61eae692a7941bc",
            "42219c096fdc433fb732f56dc069e125"
          ]
        },
        "outputId": "f3b9836d-b4dc-4973-8b2c-3cf93c129d89"
      },
      "execution_count": 24,
      "outputs": [
        {
          "output_type": "display_data",
          "data": {
            "text/plain": [
              "  0%|          | 0/20 [00:00<?, ?it/s]"
            ],
            "application/vnd.jupyter.widget-view+json": {
              "version_major": 2,
              "version_minor": 0,
              "model_id": "f8f68facd91b4e5195e7461aefe62397"
            }
          },
          "metadata": {}
        },
        {
          "output_type": "stream",
          "name": "stdout",
          "text": [
            "Evaluation Result: 459.6\n"
          ]
        }
      ]
    },
    {
      "cell_type": "code",
      "source": [
        "# Show how the agent works\n",
        "env.close()\n",
        "\n",
        "env = create_env()\n",
        "env = wrappers.RecordVideo(env, video_folder='./gym-results/', name_prefix=res_prefix)\n",
        "\n",
        "eval_reward = evaluate_policy(env, agent, 1)\n",
        "\n",
        "print('Sample Total Reward:', eval_reward)\n",
        "\n",
        "env.close()"
      ],
      "metadata": {
        "id": "_-AIG2IfcCaw",
        "colab": {
          "base_uri": "https://localhost:8080/"
        },
        "outputId": "d1b8d5a1-9e9d-4168-fc6c-0a3c2ad8b053"
      },
      "execution_count": 25,
      "outputs": [
        {
          "output_type": "stream",
          "name": "stdout",
          "text": [
            "Moviepy - Building video /content/gym-results/cart-episode-0.mp4.\n",
            "Moviepy - Writing video /content/gym-results/cart-episode-0.mp4\n",
            "\n"
          ]
        },
        {
          "output_type": "stream",
          "name": "stderr",
          "text": []
        },
        {
          "output_type": "stream",
          "name": "stdout",
          "text": [
            "Moviepy - Done !\n",
            "Moviepy - video ready /content/gym-results/cart-episode-0.mp4\n",
            "Sample Total Reward: 500.0\n"
          ]
        }
      ]
    },
    {
      "cell_type": "code",
      "source": [
        "# play the game\n",
        "from IPython.display import HTML\n",
        "from base64 import b64encode\n",
        "\n",
        "def show_video(video_path, video_width = 320):\n",
        "  video_file = open(video_path, \"r+b\").read()\n",
        "  video_url = f\"data:video/mp4;base64,{b64encode(video_file).decode()}\"\n",
        "  return HTML(f\"\"\"<video width={video_width} controls><source src=\"{video_url}\"></video>\"\"\")\n",
        "\n",
        "show_video('./gym-results/' + res_prefix + '-episode-0.mp4')"
      ],
      "metadata": {
        "id": "0_FBSi8ScEJb",
        "colab": {
          "base_uri": "https://localhost:8080/",
          "height": 233
        },
        "outputId": "a5d112c7-b4c0-4510-e15d-95de7b4cc9a2"
      },
      "execution_count": 26,
      "outputs": [
        {
          "output_type": "execute_result",
          "data": {
            "text/plain": [
              "<IPython.core.display.HTML object>"
            ],
            "text/html": [
              "<video width=320 controls><source src=\"data:video/mp4;base64,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\"></video>"
            ]
          },
          "metadata": {},
          "execution_count": 26
        }
      ]
    }
  ]
}