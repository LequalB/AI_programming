{
  "nbformat": 4,
  "nbformat_minor": 0,
  "metadata": {
    "colab": {
      "provenance": [],
      "gpuType": "T4"
    },
    "kernelspec": {
      "name": "python3",
      "display_name": "Python 3"
    },
    "language_info": {
      "name": "python"
    },
    "accelerator": "GPU",
    "widgets": {
      "application/vnd.jupyter.widget-state+json": {
        "5413cbae97fd4c5681e2c1506505e805": {
          "model_module": "@jupyter-widgets/controls",
          "model_name": "HBoxModel",
          "model_module_version": "1.5.0",
          "state": {
            "_dom_classes": [],
            "_model_module": "@jupyter-widgets/controls",
            "_model_module_version": "1.5.0",
            "_model_name": "HBoxModel",
            "_view_count": null,
            "_view_module": "@jupyter-widgets/controls",
            "_view_module_version": "1.5.0",
            "_view_name": "HBoxView",
            "box_style": "",
            "children": [
              "IPY_MODEL_a0ffab1ee0574184adae5eb05f736301",
              "IPY_MODEL_841883f65523437cadfe234cb5c55e6e",
              "IPY_MODEL_45d7b5448a3f4a318015a86ff3845d34"
            ],
            "layout": "IPY_MODEL_76336fd63b7243f19fb6ab5ff0c227e2"
          }
        },
        "a0ffab1ee0574184adae5eb05f736301": {
          "model_module": "@jupyter-widgets/controls",
          "model_name": "HTMLModel",
          "model_module_version": "1.5.0",
          "state": {
            "_dom_classes": [],
            "_model_module": "@jupyter-widgets/controls",
            "_model_module_version": "1.5.0",
            "_model_name": "HTMLModel",
            "_view_count": null,
            "_view_module": "@jupyter-widgets/controls",
            "_view_module_version": "1.5.0",
            "_view_name": "HTMLView",
            "description": "",
            "description_tooltip": null,
            "layout": "IPY_MODEL_106e30ad86d443aebb5ddf47047d4011",
            "placeholder": "​",
            "style": "IPY_MODEL_06964c8ddfe847f880961e2b12268a3b",
            "value": ""
          }
        },
        "841883f65523437cadfe234cb5c55e6e": {
          "model_module": "@jupyter-widgets/controls",
          "model_name": "FloatProgressModel",
          "model_module_version": "1.5.0",
          "state": {
            "_dom_classes": [],
            "_model_module": "@jupyter-widgets/controls",
            "_model_module_version": "1.5.0",
            "_model_name": "FloatProgressModel",
            "_view_count": null,
            "_view_module": "@jupyter-widgets/controls",
            "_view_module_version": "1.5.0",
            "_view_name": "ProgressView",
            "bar_style": "danger",
            "description": "",
            "description_tooltip": null,
            "layout": "IPY_MODEL_6d1eca87f3f84795b02ffd1f1212538d",
            "max": 2000,
            "min": 0,
            "orientation": "horizontal",
            "style": "IPY_MODEL_b94db85f344a486399782e533b3b92c0",
            "value": 657
          }
        },
        "45d7b5448a3f4a318015a86ff3845d34": {
          "model_module": "@jupyter-widgets/controls",
          "model_name": "HTMLModel",
          "model_module_version": "1.5.0",
          "state": {
            "_dom_classes": [],
            "_model_module": "@jupyter-widgets/controls",
            "_model_module_version": "1.5.0",
            "_model_name": "HTMLModel",
            "_view_count": null,
            "_view_module": "@jupyter-widgets/controls",
            "_view_module_version": "1.5.0",
            "_view_name": "HTMLView",
            "description": "",
            "description_tooltip": null,
            "layout": "IPY_MODEL_3589a870cf7e475392b84accdc9e9278",
            "placeholder": "​",
            "style": "IPY_MODEL_fb408dc235674ff3b5d7a83129d1ecf2",
            "value": " 33%|███▎      | 657/2000 [01:00&lt;00:45, 29.70it/s, reward=3, steps=18]"
          }
        },
        "76336fd63b7243f19fb6ab5ff0c227e2": {
          "model_module": "@jupyter-widgets/base",
          "model_name": "LayoutModel",
          "model_module_version": "1.2.0",
          "state": {
            "_model_module": "@jupyter-widgets/base",
            "_model_module_version": "1.2.0",
            "_model_name": "LayoutModel",
            "_view_count": null,
            "_view_module": "@jupyter-widgets/base",
            "_view_module_version": "1.2.0",
            "_view_name": "LayoutView",
            "align_content": null,
            "align_items": null,
            "align_self": null,
            "border": null,
            "bottom": null,
            "display": null,
            "flex": null,
            "flex_flow": null,
            "grid_area": null,
            "grid_auto_columns": null,
            "grid_auto_flow": null,
            "grid_auto_rows": null,
            "grid_column": null,
            "grid_gap": null,
            "grid_row": null,
            "grid_template_areas": null,
            "grid_template_columns": null,
            "grid_template_rows": null,
            "height": null,
            "justify_content": null,
            "justify_items": null,
            "left": null,
            "margin": null,
            "max_height": null,
            "max_width": null,
            "min_height": null,
            "min_width": null,
            "object_fit": null,
            "object_position": null,
            "order": null,
            "overflow": null,
            "overflow_x": null,
            "overflow_y": null,
            "padding": null,
            "right": null,
            "top": null,
            "visibility": null,
            "width": null
          }
        },
        "106e30ad86d443aebb5ddf47047d4011": {
          "model_module": "@jupyter-widgets/base",
          "model_name": "LayoutModel",
          "model_module_version": "1.2.0",
          "state": {
            "_model_module": "@jupyter-widgets/base",
            "_model_module_version": "1.2.0",
            "_model_name": "LayoutModel",
            "_view_count": null,
            "_view_module": "@jupyter-widgets/base",
            "_view_module_version": "1.2.0",
            "_view_name": "LayoutView",
            "align_content": null,
            "align_items": null,
            "align_self": null,
            "border": null,
            "bottom": null,
            "display": null,
            "flex": null,
            "flex_flow": null,
            "grid_area": null,
            "grid_auto_columns": null,
            "grid_auto_flow": null,
            "grid_auto_rows": null,
            "grid_column": null,
            "grid_gap": null,
            "grid_row": null,
            "grid_template_areas": null,
            "grid_template_columns": null,
            "grid_template_rows": null,
            "height": null,
            "justify_content": null,
            "justify_items": null,
            "left": null,
            "margin": null,
            "max_height": null,
            "max_width": null,
            "min_height": null,
            "min_width": null,
            "object_fit": null,
            "object_position": null,
            "order": null,
            "overflow": null,
            "overflow_x": null,
            "overflow_y": null,
            "padding": null,
            "right": null,
            "top": null,
            "visibility": null,
            "width": null
          }
        },
        "06964c8ddfe847f880961e2b12268a3b": {
          "model_module": "@jupyter-widgets/controls",
          "model_name": "DescriptionStyleModel",
          "model_module_version": "1.5.0",
          "state": {
            "_model_module": "@jupyter-widgets/controls",
            "_model_module_version": "1.5.0",
            "_model_name": "DescriptionStyleModel",
            "_view_count": null,
            "_view_module": "@jupyter-widgets/base",
            "_view_module_version": "1.2.0",
            "_view_name": "StyleView",
            "description_width": ""
          }
        },
        "6d1eca87f3f84795b02ffd1f1212538d": {
          "model_module": "@jupyter-widgets/base",
          "model_name": "LayoutModel",
          "model_module_version": "1.2.0",
          "state": {
            "_model_module": "@jupyter-widgets/base",
            "_model_module_version": "1.2.0",
            "_model_name": "LayoutModel",
            "_view_count": null,
            "_view_module": "@jupyter-widgets/base",
            "_view_module_version": "1.2.0",
            "_view_name": "LayoutView",
            "align_content": null,
            "align_items": null,
            "align_self": null,
            "border": null,
            "bottom": null,
            "display": null,
            "flex": null,
            "flex_flow": null,
            "grid_area": null,
            "grid_auto_columns": null,
            "grid_auto_flow": null,
            "grid_auto_rows": null,
            "grid_column": null,
            "grid_gap": null,
            "grid_row": null,
            "grid_template_areas": null,
            "grid_template_columns": null,
            "grid_template_rows": null,
            "height": null,
            "justify_content": null,
            "justify_items": null,
            "left": null,
            "margin": null,
            "max_height": null,
            "max_width": null,
            "min_height": null,
            "min_width": null,
            "object_fit": null,
            "object_position": null,
            "order": null,
            "overflow": null,
            "overflow_x": null,
            "overflow_y": null,
            "padding": null,
            "right": null,
            "top": null,
            "visibility": null,
            "width": null
          }
        },
        "b94db85f344a486399782e533b3b92c0": {
          "model_module": "@jupyter-widgets/controls",
          "model_name": "ProgressStyleModel",
          "model_module_version": "1.5.0",
          "state": {
            "_model_module": "@jupyter-widgets/controls",
            "_model_module_version": "1.5.0",
            "_model_name": "ProgressStyleModel",
            "_view_count": null,
            "_view_module": "@jupyter-widgets/base",
            "_view_module_version": "1.2.0",
            "_view_name": "StyleView",
            "bar_color": null,
            "description_width": ""
          }
        },
        "3589a870cf7e475392b84accdc9e9278": {
          "model_module": "@jupyter-widgets/base",
          "model_name": "LayoutModel",
          "model_module_version": "1.2.0",
          "state": {
            "_model_module": "@jupyter-widgets/base",
            "_model_module_version": "1.2.0",
            "_model_name": "LayoutModel",
            "_view_count": null,
            "_view_module": "@jupyter-widgets/base",
            "_view_module_version": "1.2.0",
            "_view_name": "LayoutView",
            "align_content": null,
            "align_items": null,
            "align_self": null,
            "border": null,
            "bottom": null,
            "display": null,
            "flex": null,
            "flex_flow": null,
            "grid_area": null,
            "grid_auto_columns": null,
            "grid_auto_flow": null,
            "grid_auto_rows": null,
            "grid_column": null,
            "grid_gap": null,
            "grid_row": null,
            "grid_template_areas": null,
            "grid_template_columns": null,
            "grid_template_rows": null,
            "height": null,
            "justify_content": null,
            "justify_items": null,
            "left": null,
            "margin": null,
            "max_height": null,
            "max_width": null,
            "min_height": null,
            "min_width": null,
            "object_fit": null,
            "object_position": null,
            "order": null,
            "overflow": null,
            "overflow_x": null,
            "overflow_y": null,
            "padding": null,
            "right": null,
            "top": null,
            "visibility": null,
            "width": null
          }
        },
        "fb408dc235674ff3b5d7a83129d1ecf2": {
          "model_module": "@jupyter-widgets/controls",
          "model_name": "DescriptionStyleModel",
          "model_module_version": "1.5.0",
          "state": {
            "_model_module": "@jupyter-widgets/controls",
            "_model_module_version": "1.5.0",
            "_model_name": "DescriptionStyleModel",
            "_view_count": null,
            "_view_module": "@jupyter-widgets/base",
            "_view_module_version": "1.2.0",
            "_view_name": "StyleView",
            "description_width": ""
          }
        },
        "6572558bf27d4eb4aa8999eb30c2046f": {
          "model_module": "@jupyter-widgets/controls",
          "model_name": "HBoxModel",
          "model_module_version": "1.5.0",
          "state": {
            "_dom_classes": [],
            "_model_module": "@jupyter-widgets/controls",
            "_model_module_version": "1.5.0",
            "_model_name": "HBoxModel",
            "_view_count": null,
            "_view_module": "@jupyter-widgets/controls",
            "_view_module_version": "1.5.0",
            "_view_name": "HBoxView",
            "box_style": "",
            "children": [
              "IPY_MODEL_0e967f0cdc304a9dbf1cb586c65cdaf2",
              "IPY_MODEL_e49c2cf2606d41118f01f19dc38f6114",
              "IPY_MODEL_0cc360412a0f40199797405f46d13250"
            ],
            "layout": "IPY_MODEL_df93bfe6c1c446df99fd5ae2701cc6cf"
          }
        },
        "0e967f0cdc304a9dbf1cb586c65cdaf2": {
          "model_module": "@jupyter-widgets/controls",
          "model_name": "HTMLModel",
          "model_module_version": "1.5.0",
          "state": {
            "_dom_classes": [],
            "_model_module": "@jupyter-widgets/controls",
            "_model_module_version": "1.5.0",
            "_model_name": "HTMLModel",
            "_view_count": null,
            "_view_module": "@jupyter-widgets/controls",
            "_view_module_version": "1.5.0",
            "_view_name": "HTMLView",
            "description": "",
            "description_tooltip": null,
            "layout": "IPY_MODEL_ad20bc933c6e4e509217a12ac5cae340",
            "placeholder": "​",
            "style": "IPY_MODEL_b73046934e264479bdb384f030d665dd",
            "value": "100%"
          }
        },
        "e49c2cf2606d41118f01f19dc38f6114": {
          "model_module": "@jupyter-widgets/controls",
          "model_name": "FloatProgressModel",
          "model_module_version": "1.5.0",
          "state": {
            "_dom_classes": [],
            "_model_module": "@jupyter-widgets/controls",
            "_model_module_version": "1.5.0",
            "_model_name": "FloatProgressModel",
            "_view_count": null,
            "_view_module": "@jupyter-widgets/controls",
            "_view_module_version": "1.5.0",
            "_view_name": "ProgressView",
            "bar_style": "success",
            "description": "",
            "description_tooltip": null,
            "layout": "IPY_MODEL_b25196d2fb444812bbb6bd19da28c9a6",
            "max": 20,
            "min": 0,
            "orientation": "horizontal",
            "style": "IPY_MODEL_d1737a24fd63456eac0c49d9e374e204",
            "value": 20
          }
        },
        "0cc360412a0f40199797405f46d13250": {
          "model_module": "@jupyter-widgets/controls",
          "model_name": "HTMLModel",
          "model_module_version": "1.5.0",
          "state": {
            "_dom_classes": [],
            "_model_module": "@jupyter-widgets/controls",
            "_model_module_version": "1.5.0",
            "_model_name": "HTMLModel",
            "_view_count": null,
            "_view_module": "@jupyter-widgets/controls",
            "_view_module_version": "1.5.0",
            "_view_name": "HTMLView",
            "description": "",
            "description_tooltip": null,
            "layout": "IPY_MODEL_c687359d7cf043da954d4993c7e7a8e0",
            "placeholder": "​",
            "style": "IPY_MODEL_c003912f93ad4ba6975ac951926fbfb1",
            "value": " 20/20 [00:00&lt;00:00, 400.12it/s]"
          }
        },
        "df93bfe6c1c446df99fd5ae2701cc6cf": {
          "model_module": "@jupyter-widgets/base",
          "model_name": "LayoutModel",
          "model_module_version": "1.2.0",
          "state": {
            "_model_module": "@jupyter-widgets/base",
            "_model_module_version": "1.2.0",
            "_model_name": "LayoutModel",
            "_view_count": null,
            "_view_module": "@jupyter-widgets/base",
            "_view_module_version": "1.2.0",
            "_view_name": "LayoutView",
            "align_content": null,
            "align_items": null,
            "align_self": null,
            "border": null,
            "bottom": null,
            "display": null,
            "flex": null,
            "flex_flow": null,
            "grid_area": null,
            "grid_auto_columns": null,
            "grid_auto_flow": null,
            "grid_auto_rows": null,
            "grid_column": null,
            "grid_gap": null,
            "grid_row": null,
            "grid_template_areas": null,
            "grid_template_columns": null,
            "grid_template_rows": null,
            "height": null,
            "justify_content": null,
            "justify_items": null,
            "left": null,
            "margin": null,
            "max_height": null,
            "max_width": null,
            "min_height": null,
            "min_width": null,
            "object_fit": null,
            "object_position": null,
            "order": null,
            "overflow": null,
            "overflow_x": null,
            "overflow_y": null,
            "padding": null,
            "right": null,
            "top": null,
            "visibility": null,
            "width": null
          }
        },
        "ad20bc933c6e4e509217a12ac5cae340": {
          "model_module": "@jupyter-widgets/base",
          "model_name": "LayoutModel",
          "model_module_version": "1.2.0",
          "state": {
            "_model_module": "@jupyter-widgets/base",
            "_model_module_version": "1.2.0",
            "_model_name": "LayoutModel",
            "_view_count": null,
            "_view_module": "@jupyter-widgets/base",
            "_view_module_version": "1.2.0",
            "_view_name": "LayoutView",
            "align_content": null,
            "align_items": null,
            "align_self": null,
            "border": null,
            "bottom": null,
            "display": null,
            "flex": null,
            "flex_flow": null,
            "grid_area": null,
            "grid_auto_columns": null,
            "grid_auto_flow": null,
            "grid_auto_rows": null,
            "grid_column": null,
            "grid_gap": null,
            "grid_row": null,
            "grid_template_areas": null,
            "grid_template_columns": null,
            "grid_template_rows": null,
            "height": null,
            "justify_content": null,
            "justify_items": null,
            "left": null,
            "margin": null,
            "max_height": null,
            "max_width": null,
            "min_height": null,
            "min_width": null,
            "object_fit": null,
            "object_position": null,
            "order": null,
            "overflow": null,
            "overflow_x": null,
            "overflow_y": null,
            "padding": null,
            "right": null,
            "top": null,
            "visibility": null,
            "width": null
          }
        },
        "b73046934e264479bdb384f030d665dd": {
          "model_module": "@jupyter-widgets/controls",
          "model_name": "DescriptionStyleModel",
          "model_module_version": "1.5.0",
          "state": {
            "_model_module": "@jupyter-widgets/controls",
            "_model_module_version": "1.5.0",
            "_model_name": "DescriptionStyleModel",
            "_view_count": null,
            "_view_module": "@jupyter-widgets/base",
            "_view_module_version": "1.2.0",
            "_view_name": "StyleView",
            "description_width": ""
          }
        },
        "b25196d2fb444812bbb6bd19da28c9a6": {
          "model_module": "@jupyter-widgets/base",
          "model_name": "LayoutModel",
          "model_module_version": "1.2.0",
          "state": {
            "_model_module": "@jupyter-widgets/base",
            "_model_module_version": "1.2.0",
            "_model_name": "LayoutModel",
            "_view_count": null,
            "_view_module": "@jupyter-widgets/base",
            "_view_module_version": "1.2.0",
            "_view_name": "LayoutView",
            "align_content": null,
            "align_items": null,
            "align_self": null,
            "border": null,
            "bottom": null,
            "display": null,
            "flex": null,
            "flex_flow": null,
            "grid_area": null,
            "grid_auto_columns": null,
            "grid_auto_flow": null,
            "grid_auto_rows": null,
            "grid_column": null,
            "grid_gap": null,
            "grid_row": null,
            "grid_template_areas": null,
            "grid_template_columns": null,
            "grid_template_rows": null,
            "height": null,
            "justify_content": null,
            "justify_items": null,
            "left": null,
            "margin": null,
            "max_height": null,
            "max_width": null,
            "min_height": null,
            "min_width": null,
            "object_fit": null,
            "object_position": null,
            "order": null,
            "overflow": null,
            "overflow_x": null,
            "overflow_y": null,
            "padding": null,
            "right": null,
            "top": null,
            "visibility": null,
            "width": null
          }
        },
        "d1737a24fd63456eac0c49d9e374e204": {
          "model_module": "@jupyter-widgets/controls",
          "model_name": "ProgressStyleModel",
          "model_module_version": "1.5.0",
          "state": {
            "_model_module": "@jupyter-widgets/controls",
            "_model_module_version": "1.5.0",
            "_model_name": "ProgressStyleModel",
            "_view_count": null,
            "_view_module": "@jupyter-widgets/base",
            "_view_module_version": "1.2.0",
            "_view_name": "StyleView",
            "bar_color": null,
            "description_width": ""
          }
        },
        "c687359d7cf043da954d4993c7e7a8e0": {
          "model_module": "@jupyter-widgets/base",
          "model_name": "LayoutModel",
          "model_module_version": "1.2.0",
          "state": {
            "_model_module": "@jupyter-widgets/base",
            "_model_module_version": "1.2.0",
            "_model_name": "LayoutModel",
            "_view_count": null,
            "_view_module": "@jupyter-widgets/base",
            "_view_module_version": "1.2.0",
            "_view_name": "LayoutView",
            "align_content": null,
            "align_items": null,
            "align_self": null,
            "border": null,
            "bottom": null,
            "display": null,
            "flex": null,
            "flex_flow": null,
            "grid_area": null,
            "grid_auto_columns": null,
            "grid_auto_flow": null,
            "grid_auto_rows": null,
            "grid_column": null,
            "grid_gap": null,
            "grid_row": null,
            "grid_template_areas": null,
            "grid_template_columns": null,
            "grid_template_rows": null,
            "height": null,
            "justify_content": null,
            "justify_items": null,
            "left": null,
            "margin": null,
            "max_height": null,
            "max_width": null,
            "min_height": null,
            "min_width": null,
            "object_fit": null,
            "object_position": null,
            "order": null,
            "overflow": null,
            "overflow_x": null,
            "overflow_y": null,
            "padding": null,
            "right": null,
            "top": null,
            "visibility": null,
            "width": null
          }
        },
        "c003912f93ad4ba6975ac951926fbfb1": {
          "model_module": "@jupyter-widgets/controls",
          "model_name": "DescriptionStyleModel",
          "model_module_version": "1.5.0",
          "state": {
            "_model_module": "@jupyter-widgets/controls",
            "_model_module_version": "1.5.0",
            "_model_name": "DescriptionStyleModel",
            "_view_count": null,
            "_view_module": "@jupyter-widgets/base",
            "_view_module_version": "1.2.0",
            "_view_name": "StyleView",
            "description_width": ""
          }
        }
      }
    }
  },
  "cells": [
    {
      "cell_type": "code",
      "execution_count": 20,
      "metadata": {
        "id": "WNGK60eCImx1"
      },
      "outputs": [],
      "source": [
        "# Check if this code runs in Colab\n",
        "RunningInCOLAB = 'google.colab' in str(get_ipython())\n",
        "\n",
        "# To prevent that some version of matplolib causes an openmp error\n",
        "import os\n",
        "os.environ[\"KMP_DUPLICATE_LIB_OK\"]=\"TRUE\""
      ]
    },
    {
      "cell_type": "code",
      "source": [
        "# Environment Setup\n",
        "# Depending on the execution environment (Colab), it sets the environment variable RunningInCOLAB's packages\n",
        "if RunningInCOLAB:  # if the envionment is set, installs specific packages (gymnasium, pygame, moviepy)\n",
        "    !pip install gymnasium\n",
        "    !pip install pygame\n",
        "    !pip install 'moviepy>=1.0.3'\n",
        "    from tqdm.notebook import tqdm\n",
        "else: # if the envionment is not set\n",
        "    from tqdm import tqdm"
      ],
      "metadata": {
        "colab": {
          "base_uri": "https://localhost:8080/"
        },
        "id": "bqhjt2zII6_x",
        "outputId": "122d5117-65f0-46cf-81cd-daec0f66b194"
      },
      "execution_count": 21,
      "outputs": [
        {
          "output_type": "stream",
          "name": "stdout",
          "text": [
            "Requirement already satisfied: gymnasium in /usr/local/lib/python3.10/dist-packages (0.29.1)\n",
            "Requirement already satisfied: numpy>=1.21.0 in /usr/local/lib/python3.10/dist-packages (from gymnasium) (1.23.5)\n",
            "Requirement already satisfied: cloudpickle>=1.2.0 in /usr/local/lib/python3.10/dist-packages (from gymnasium) (2.2.1)\n",
            "Requirement already satisfied: typing-extensions>=4.3.0 in /usr/local/lib/python3.10/dist-packages (from gymnasium) (4.5.0)\n",
            "Requirement already satisfied: farama-notifications>=0.0.1 in /usr/local/lib/python3.10/dist-packages (from gymnasium) (0.0.4)\n",
            "Requirement already satisfied: pygame in /usr/local/lib/python3.10/dist-packages (2.5.2)\n",
            "Requirement already satisfied: moviepy>=1.0.3 in /usr/local/lib/python3.10/dist-packages (1.0.3)\n",
            "Requirement already satisfied: decorator<5.0,>=4.0.2 in /usr/local/lib/python3.10/dist-packages (from moviepy>=1.0.3) (4.4.2)\n",
            "Requirement already satisfied: tqdm<5.0,>=4.11.2 in /usr/local/lib/python3.10/dist-packages (from moviepy>=1.0.3) (4.66.1)\n",
            "Requirement already satisfied: requests<3.0,>=2.8.1 in /usr/local/lib/python3.10/dist-packages (from moviepy>=1.0.3) (2.31.0)\n",
            "Requirement already satisfied: proglog<=1.0.0 in /usr/local/lib/python3.10/dist-packages (from moviepy>=1.0.3) (0.1.10)\n",
            "Requirement already satisfied: numpy>=1.17.3 in /usr/local/lib/python3.10/dist-packages (from moviepy>=1.0.3) (1.23.5)\n",
            "Requirement already satisfied: imageio<3.0,>=2.5 in /usr/local/lib/python3.10/dist-packages (from moviepy>=1.0.3) (2.31.6)\n",
            "Requirement already satisfied: imageio-ffmpeg>=0.2.0 in /usr/local/lib/python3.10/dist-packages (from moviepy>=1.0.3) (0.4.9)\n",
            "Requirement already satisfied: pillow<10.1.0,>=8.3.2 in /usr/local/lib/python3.10/dist-packages (from imageio<3.0,>=2.5->moviepy>=1.0.3) (9.4.0)\n",
            "Requirement already satisfied: setuptools in /usr/local/lib/python3.10/dist-packages (from imageio-ffmpeg>=0.2.0->moviepy>=1.0.3) (67.7.2)\n",
            "Requirement already satisfied: charset-normalizer<4,>=2 in /usr/local/lib/python3.10/dist-packages (from requests<3.0,>=2.8.1->moviepy>=1.0.3) (3.3.2)\n",
            "Requirement already satisfied: idna<4,>=2.5 in /usr/local/lib/python3.10/dist-packages (from requests<3.0,>=2.8.1->moviepy>=1.0.3) (3.4)\n",
            "Requirement already satisfied: urllib3<3,>=1.21.1 in /usr/local/lib/python3.10/dist-packages (from requests<3.0,>=2.8.1->moviepy>=1.0.3) (2.0.7)\n",
            "Requirement already satisfied: certifi>=2017.4.17 in /usr/local/lib/python3.10/dist-packages (from requests<3.0,>=2.8.1->moviepy>=1.0.3) (2023.7.22)\n"
          ]
        }
      ]
    },
    {
      "cell_type": "code",
      "source": [
        "# Importing Libraries (It imports necessary libraries such as numpy, matplotlib.pyplot, and gym.)\n",
        "import numpy as np\n",
        "import matplotlib.pyplot as plt\n",
        "\n",
        "import gymnasium as gym\n",
        "from gymnasium import wrappers"
      ],
      "metadata": {
        "id": "ML4k3OrhI8h3"
      },
      "execution_count": 22,
      "outputs": []
    },
    {
      "cell_type": "code",
      "source": [
        "# import the libraries(by using gym.)\n",
        "gym.__version__"
      ],
      "metadata": {
        "colab": {
          "base_uri": "https://localhost:8080/",
          "height": 35
        },
        "id": "ltfTJ-wgJCEu",
        "outputId": "416ccf47-dae3-4b65-8af3-dea66a58481f"
      },
      "execution_count": 23,
      "outputs": [
        {
          "output_type": "execute_result",
          "data": {
            "text/plain": [
              "'0.29.1'"
            ],
            "application/vnd.google.colaboratory.intrinsic+json": {
              "type": "string"
            }
          },
          "metadata": {},
          "execution_count": 23
        }
      ]
    },
    {
      "cell_type": "code",
      "source": [
        "# select evironment\n",
        "# Text Game:    0 for FrozenLake 4x4, 1 for Taxi, 2 for Blackjack\n",
        "\n",
        "SELECT_ENV = 1 # initialize the variable."
      ],
      "metadata": {
        "id": "kpUjGFkdJDt1"
      },
      "execution_count": 24,
      "outputs": []
    },
    {
      "cell_type": "code",
      "source": [
        "# Define the variable according to the condition and also define the associated function.\n",
        "# It selects a Gym environment based on the SELECT_ENV variable, defining specific parameters for different environments like 'FrozenLake-v1', 'Taxi-v3', or 'Blackjack-v1'.\n",
        "if SELECT_ENV == 0:\n",
        "    env_name, res_prefix = 'FrozenLake-v1', 'lak4'\n",
        "    max_episodes, max_ep_steps, goal_score = 500, 500, 0.8\n",
        "elif SELECT_ENV == 1:\n",
        "    env_name, res_prefix = 'Taxi-v3', 'taxi'\n",
        "    max_episodes, max_ep_steps, goal_score = 500, 500, 8.0\n",
        "elif SELECT_ENV == 2:\n",
        "    env_name, res_prefix = 'Blackjack-v1', 'blkj'\n",
        "    max_episodes, max_ep_steps, goal_score = 500, 500, 1.0\n",
        "else: assert False, 'environment selection error'\n",
        "# The create_env() function creates and configures the selected Gym environment based on the chosen parameters.\n",
        "def create_env():\n",
        "    if   SELECT_ENV == 0: # Forzen Lake\n",
        "        env = gym.make(env_name, desc=None, map_name='4x4', is_slippery=True, render_mode='rgb_array')\n",
        "    elif   SELECT_ENV == 1: # Taxi\n",
        "        env = gym.make(env_name, render_mode='rgb_array')\n",
        "    elif   SELECT_ENV == 2: # Blackjack\n",
        "        env = gym.make(env_name, natural=False, sab=False, render_mode='rgb_array')\n",
        "    else: pass\n",
        "    return env"
      ],
      "metadata": {
        "id": "LIqJs9zcJIQs"
      },
      "execution_count": 25,
      "outputs": []
    },
    {
      "cell_type": "code",
      "source": [
        "# Defines the functions associated with the environment setup.\n",
        "def env_reset(env):\n",
        "  # Resets the environment and returns the initial state representation\n",
        "    observation = env.reset()\n",
        "    obs = observation[0] if type(observation)==tuple else observation\n",
        "    if SELECT_ENV == 2:\n",
        "        state = obs[0] + 32 * obs[2] + 64 * obs[1]\n",
        "    else: state = obs\n",
        "    return state\n",
        "\n",
        "def env_step(env, action):\n",
        "  # Executes an action in the environment and returns the updated state, reward, and done flag\n",
        "    observation = env.step(action)\n",
        "    if SELECT_ENV == 2:\n",
        "        state = observation[0][0] + 32 * observation[0][2] + 64 * observation[0][1]\n",
        "    else: state = observation[0]\n",
        "    reward = observation[1]\n",
        "    done = observation[2] or observation[3] if len(observation)>4 else observation[2]\n",
        "    return state, reward, done"
      ],
      "metadata": {
        "id": "TjS1EWt-JKDP"
      },
      "execution_count": 26,
      "outputs": []
    },
    {
      "cell_type": "code",
      "source": [
        "# Create the environment\n",
        "env = create_env()\n",
        "# Reset the environment to get the initial state\n",
        "state = env_reset(env)\n",
        "# Perform an action in the environment to get a new state, reward, and done flag\n",
        "state, reward, done = env_step(env, env.action_space.sample())"
      ],
      "metadata": {
        "id": "phTHe-xMJLkt"
      },
      "execution_count": 27,
      "outputs": []
    },
    {
      "cell_type": "code",
      "source": [
        "# Analyze the action space properties\n",
        "action_shape = env.action_space.shape\n",
        "action_space_type = type(env.action_space)\n",
        "# Check and define properties based on the action space type (Discrete or Box)\n",
        "if action_space_type==gym.spaces.discrete.Discrete:\n",
        "    # For Discrete action space\n",
        "    actn_space = 'DISCRETE'\n",
        "    action_shape = (1,)\n",
        "    action_dims = 1\n",
        "    action_range = env.action_space.n\n",
        "    num_actions = action_range  # number of actions is action range for DISCRETE actions\n",
        "    action_batch_shape = (None, action_range)\n",
        "elif action_space_type==gym.spaces.box.Box:\n",
        "    # For Continuous action space\n",
        "    actn_space = 'CONTINUOUS'\n",
        "    action_dims = action_shape[0]\n",
        "    actn_uppr_bound = env.action_space.high[0]\n",
        "    actn_lowr_bound = env.action_space.low[0]\n",
        "    action_range = (actn_uppr_bound - actn_lowr_bound) # x0.5 for tanh output\n",
        "    action_batch_shape = tuple([None]+[x for x in action_shape])\n",
        "    num_actions = action_dims   # number of actions is action dimension for CONTINUOUS actions\n",
        "else: assert False, 'other action space type are not supported'\n",
        "\n",
        "# Analyze the observation space properties\n",
        "observation_space_type = type(env.observation_space)\n",
        "observation_shape = env.observation_space.shape\n",
        "\n",
        "# Check and define properties based on the observation space type\n",
        "if observation_space_type==gym.spaces.discrete.Discrete:\n",
        "    observation_shape = (1,)\n",
        "    num_states = env.observation_space.n\n",
        "elif observation_space_type==gym.spaces.box.Box:\n",
        "    num_states = observation_shape[0]\n",
        "elif observation_space_type==gym.spaces.tuple.Tuple:\n",
        "    observation_shape = tuple([x.n for x in env.observation_space])\n",
        "    num_states = np.prod(observation_shape)\n",
        "else: print('observation space type error')\n",
        "\n",
        "# Define the state shape and batch shape based on the selected environment\n",
        "if SELECT_ENV == 2:\n",
        "    state_shape = (1,)\n",
        "    state_batch_shape = (None,1)\n",
        "else:\n",
        "    state_shape = observation_shape\n",
        "    state_batch_shape = tuple([None]+[x for x in observation_shape])\n",
        "\n",
        "# Define the shape and number of values related to the environment state\n",
        "value_shape = (1,)\n",
        "num_values = 1"
      ],
      "metadata": {
        "id": "fh9jKk-5JOHT"
      },
      "execution_count": 28,
      "outputs": []
    },
    {
      "cell_type": "code",
      "source": [
        "# print out the information.\n",
        "print('Action space ', action_space_type)\n",
        "print('Action shape ', action_shape)\n",
        "print('Action dimensions ', action_dims)\n",
        "print('Action range ', action_range)\n",
        "if action_space_type==gym.spaces.box.Box:\n",
        "    print('Max Value of Action ', actn_uppr_bound)\n",
        "    print('Min Value of Action ', actn_lowr_bound)\n",
        "else: pass\n",
        "print('Action batch shape ', action_batch_shape)\n",
        "\n",
        "print('Observation space ', observation_space_type)\n",
        "print('Observation shape ', observation_shape)\n",
        "print('Size of State Space ', num_states)\n",
        "print('State shape ', state_shape)\n",
        "print('State batch shape ', state_batch_shape)\n",
        "\n",
        "print('Vallue shape ', value_shape)\n",
        "print('Value dimensions ', num_values)"
      ],
      "metadata": {
        "colab": {
          "base_uri": "https://localhost:8080/"
        },
        "id": "WlA5s5s8JQlK",
        "outputId": "4ddb6712-19f7-4748-9c51-440665646cf0"
      },
      "execution_count": 29,
      "outputs": [
        {
          "output_type": "stream",
          "name": "stdout",
          "text": [
            "Action space  <class 'gymnasium.spaces.discrete.Discrete'>\n",
            "Action shape  (1,)\n",
            "Action dimensions  1\n",
            "Action range  6\n",
            "Action batch shape  (None, 6)\n",
            "Observation space  <class 'gymnasium.spaces.discrete.Discrete'>\n",
            "Observation shape  (1,)\n",
            "Size of State Space  500\n",
            "State shape  (1,)\n",
            "State batch shape  (None, 1)\n",
            "Vallue shape  (1,)\n",
            "Value dimensions  1\n"
          ]
        }
      ]
    },
    {
      "cell_type": "code",
      "source": [
        "# define q-table\n",
        "### START CODE HERE ###\n",
        "# the number of states is 500, and the number of actions is 6\n",
        "Q_table = np.zeros((num_states,action_range))                          # define q-table\n",
        "\n",
        "###  END CODE HERE  ###\n",
        "\n",
        "print(Q_table.shape)  # print out the Q_table's shape"
      ],
      "metadata": {
        "colab": {
          "base_uri": "https://localhost:8080/"
        },
        "id": "Sv2uEoemJT2R",
        "outputId": "ffc84fcf-4c2e-4829-a074-7b4ac53d625e"
      },
      "execution_count": 30,
      "outputs": [
        {
          "output_type": "stream",
          "name": "stdout",
          "text": [
            "(500, 6)\n"
          ]
        }
      ]
    },
    {
      "cell_type": "code",
      "source": [
        "# define the variables.\n",
        "total_episodes = 2000           # Total episodes\n",
        "learning_rate = 0.8             # Learning rate\n",
        "max_steps = 99                  # Max steps per episode\n",
        "gamma = 0.95                    # Discounting rate\n",
        "val_episodes = 20               # number of validation episodes"
      ],
      "metadata": {
        "id": "-uM2civSJWHU"
      },
      "execution_count": 31,
      "outputs": []
    },
    {
      "cell_type": "code",
      "source": [
        "# defines a class called Epsilon and also defines the variables and functions of the class.\n",
        "class Epsilon:\n",
        "    def __init__(self, max_steps):\n",
        "        self.explore_start = 1.0            # exploration probability at start\n",
        "        self.explore_stop = 0.01            # minimum exploration probability\n",
        "        self.decay_rate = 20.0/max_steps    # exponential decay rate for exploration prob (4.6 ~ max_step = 0.01)\n",
        "        self.steps = 0\n",
        "# update and redefine the variable.\n",
        "    def get_epsilon(self):\n",
        "        eps = (self.explore_stop\n",
        "            + (self.explore_start - self.explore_stop) * np.exp(-self.decay_rate * self.steps))\n",
        "        self.steps += 1\n",
        "        return eps"
      ],
      "metadata": {
        "id": "vzLWT1ZhJX6m"
      },
      "execution_count": 32,
      "outputs": []
    },
    {
      "cell_type": "code",
      "source": [
        "# Function to evaluate the policy using the Q-table\n",
        "def evaluate_policy(env, qtable, num_average):\n",
        "\n",
        "    total_reward = 0.0\n",
        "    episodes_to_play = num_average\n",
        "    for _ in range(episodes_to_play):               # Play n episode and take the average\n",
        "        state = env_reset(env)\n",
        "        done = False\n",
        "        episode_reward = 0.0\n",
        "        while not done:\n",
        "\n",
        "            ### START CODE HERE ###\n",
        "            # Choose action using the Q-table\n",
        "            action = np.argmax(qtable[state, :])    # get an action from q-table\n",
        "            next_state, reward, done = env_step(env, action)  # take action and observe outcomes\n",
        "\n",
        "            ###  END CODE HERE  ###\n",
        "\n",
        "            state = next_state                      # update state\n",
        "            episode_reward += reward\n",
        "        total_reward += episode_reward\n",
        "    average_reward = total_reward / episodes_to_play # take the average reward of evaluations\n",
        "\n",
        "    return average_reward"
      ],
      "metadata": {
        "id": "JJMSTSb2JZbo"
      },
      "execution_count": 33,
      "outputs": []
    },
    {
      "cell_type": "code",
      "source": [
        "history = {'rewards': []}                          # logs of rewards\n",
        "epsF = Epsilon(total_episodes)                      # generate epsilon object\n",
        "\n",
        "# tqdm creates a progress bar to visualize the training progress\n",
        "pbar = tqdm(range(total_episodes), bar_format='{l_bar}{bar:10}{r_bar}{bar:-10b}')\n",
        "\n",
        "for episodes in pbar:\n",
        "\n",
        "    # initialize variables for a new episode\n",
        "    epis_rewards = 0                                # episode reward\n",
        "    epis_steps = 0                                  # steps for an episode\n",
        "\n",
        "    state = env_reset(env)                          # Reset the environment\n",
        "    done = False                                    # episode end flag\n",
        "\n",
        "    epsilon = epsF.get_epsilon()                    # get new epsilon value\n",
        "\n",
        "    while not done:\n",
        "        ### START CODE HERE ###\n",
        "        explore_prob = np.random.uniform(0, 1)                 # get a random number for exploration decision\n",
        "        if explore_prob > epsilon:                             # exploitation\n",
        "            action = np.argmax(Q_table[state, :])              # exploit by selecting action with highest Q-value\n",
        "        else:                                                  # exploration\n",
        "            action = np.random.randint(0, action_range)        # explore by choosing a random action\n",
        "\n",
        "        next_state, reward, done = env_step(env, action)       # take the action and observe outcomes\n",
        "\n",
        "        # Update Q-table based on Q-learning algorithm\n",
        "        Q_table[state, action] = (1 - learning_rate) * Q_table[state, action] + learning_rate * (reward + gamma * np.max(Q_table[next_state, :]))\n",
        "\n",
        "        ###  END CODE HERE  ###\n",
        "\n",
        "        epis_rewards += reward                                 # accumulate rewards for the episode\n",
        "        state = next_state                                     # update state for the next step\n",
        "\n",
        "        if epis_steps > max_steps:\n",
        "            break  # If the episode runs too long, terminate it\n",
        "        else:\n",
        "            epis_steps += 1\n",
        "\n",
        "    history['rewards'].append(epis_rewards)   # Store episode rewards in history\n",
        "\n",
        "    pbar.set_postfix({'reward': epis_rewards, 'steps': epis_steps})  # Update progress bar with reward and steps\n",
        "\n",
        "    eval_reward = evaluate_policy(env, Q_table, val_episodes)   # evaluate the policy over validation episodes\n",
        "\n",
        "    if eval_reward > goal_score:\n",
        "        break  # Exit loop if the goal score is achieved\n",
        "\n",
        "# Output the final number of episodes and the achieved final reward\n",
        "print('episodes:{0:5d}, final_reward {1:4.2f}'.format(episodes + 1, eval_reward))\n",
        "\n"
      ],
      "metadata": {
        "colab": {
          "base_uri": "https://localhost:8080/",
          "height": 67,
          "referenced_widgets": [
            "5413cbae97fd4c5681e2c1506505e805",
            "a0ffab1ee0574184adae5eb05f736301",
            "841883f65523437cadfe234cb5c55e6e",
            "45d7b5448a3f4a318015a86ff3845d34",
            "76336fd63b7243f19fb6ab5ff0c227e2",
            "106e30ad86d443aebb5ddf47047d4011",
            "06964c8ddfe847f880961e2b12268a3b",
            "6d1eca87f3f84795b02ffd1f1212538d",
            "b94db85f344a486399782e533b3b92c0",
            "3589a870cf7e475392b84accdc9e9278",
            "fb408dc235674ff3b5d7a83129d1ecf2"
          ]
        },
        "id": "OvINZrkUJbJz",
        "outputId": "44467ee3-6dab-4414-aa85-aedf25512933"
      },
      "execution_count": 34,
      "outputs": [
        {
          "output_type": "display_data",
          "data": {
            "text/plain": [
              "  0%|          | 0/2000 [00:00<?, ?it/s]"
            ],
            "application/vnd.jupyter.widget-view+json": {
              "version_major": 2,
              "version_minor": 0,
              "model_id": "5413cbae97fd4c5681e2c1506505e805"
            }
          },
          "metadata": {}
        },
        {
          "output_type": "stream",
          "name": "stdout",
          "text": [
            "episodes:  658, final_reward 8.65\n"
          ]
        }
      ]
    },
    {
      "cell_type": "code",
      "source": [
        "# plot loss and accuracy\n",
        "def plot_graphs(log_history, log_labels, graph_labels, graph_colors=['b-','g-']):\n",
        "    num_graphs = len(log_labels)  # Number of graphs to plot\n",
        "    plt.figure(figsize=(5*num_graphs,4))  # Set the figure size based on the number of graphs\n",
        "    # Iterate over the number of graphs to plot\n",
        "    for i in range(num_graphs):\n",
        "        plt.subplot(1,num_graphs,i+1) # Create subplots for each graph\n",
        "        plt.plot(log_history[log_labels[i]], graph_colors[i], label=graph_labels[i])  # Plot the data\n",
        "        plt.xlabel('episodes')  # Set x-axis label\n",
        "        plt.legend()  # Display legend for the graph\n",
        "    plt.show()  # Display the plotted graphs\n",
        "    return\n",
        "\n",
        "log_labels    = ['rewards']  # Labels for the logged data (e.g., rewards, losses, etc.)\n",
        "label_strings = ['reward']  # Labels for the graphs (e.g., 'Reward')\n",
        "label_colors  = ['g-']  # Colors for the plotted lines on the graph\n",
        "\n",
        "# Plot the graphs using the defined function and provided parameters\n",
        "plot_graphs(history, log_labels, label_strings, label_colors)"
      ],
      "metadata": {
        "colab": {
          "base_uri": "https://localhost:8080/",
          "height": 388
        },
        "id": "5T8mQyhJJfFW",
        "outputId": "576fab0d-5440-468e-b1ea-16f350bde559"
      },
      "execution_count": 35,
      "outputs": [
        {
          "output_type": "display_data",
          "data": {
            "text/plain": [
              "<Figure size 500x400 with 1 Axes>"
            ],
            "image/png": "[encoded data removed]"
          },
          "metadata": {}
        }
      ]
    },
    {
      "cell_type": "code",
      "source": [
        "# set the parameters\n",
        "evaluate_episodes = 20  # Number of episodes for evaluation\n",
        "sum_episode_rewards = 0.0  # Initialize the sum of episode rewards\n",
        "\n",
        "# tqdm creates a progress bar to visualize the evaluation progress\n",
        "pbar = tqdm(range(evaluate_episodes))\n",
        "\n",
        "# Loop through the defined number of evaluation episodes\n",
        "for i in pbar:\n",
        "    # Evaluate the policy over one episode and accumulate the reward\n",
        "    sum_episode_rewards += evaluate_policy(env, Q_table, 1)\n",
        "# Calculate and output the average evaluation result over all episodes\n",
        "print('Evaluation Result:',  sum_episode_rewards/evaluate_episodes)"
      ],
      "metadata": {
        "colab": {
          "base_uri": "https://localhost:8080/",
          "height": 67,
          "referenced_widgets": [
            "6572558bf27d4eb4aa8999eb30c2046f",
            "0e967f0cdc304a9dbf1cb586c65cdaf2",
            "e49c2cf2606d41118f01f19dc38f6114",
            "0cc360412a0f40199797405f46d13250",
            "df93bfe6c1c446df99fd5ae2701cc6cf",
            "ad20bc933c6e4e509217a12ac5cae340",
            "b73046934e264479bdb384f030d665dd",
            "b25196d2fb444812bbb6bd19da28c9a6",
            "d1737a24fd63456eac0c49d9e374e204",
            "c687359d7cf043da954d4993c7e7a8e0",
            "c003912f93ad4ba6975ac951926fbfb1"
          ]
        },
        "id": "n-DnSmeIJhd8",
        "outputId": "bdf375fa-f02f-48c0-a7a7-08022bd0ef5a"
      },
      "execution_count": 36,
      "outputs": [
        {
          "output_type": "display_data",
          "data": {
            "text/plain": [
              "  0%|          | 0/20 [00:00<?, ?it/s]"
            ],
            "application/vnd.jupyter.widget-view+json": {
              "version_major": 2,
              "version_minor": 0,
              "model_id": "6572558bf27d4eb4aa8999eb30c2046f"
            }
          },
          "metadata": {}
        },
        {
          "output_type": "stream",
          "name": "stdout",
          "text": [
            "Evaluation Result: -13.85\n"
          ]
        }
      ]
    },
    {
      "cell_type": "code",
      "source": [
        "# Create a new environment and record a video of the agent's behavior\n",
        "\n",
        "# Close the current environment\n",
        "env.close()\n",
        "\n",
        "# Create a new environment and record a video of the agent's behavior\n",
        "env = create_env()  # Create the environment again\n",
        "env = wrappers.RecordVideo(env, video_folder='./gym-results/', name_prefix=res_prefix)\n",
        "\n",
        "# Evaluate the policy over one episode and get the total reward achieved\n",
        "eval_reward = evaluate_policy(env, Q_table, 1)\n",
        "\n",
        "# Output the total reward achieved in the sample evaluation episode\n",
        "print('Sample Total Reward:', eval_reward)\n",
        "\n",
        "# Close the environment after recording the video\n",
        "env.close()"
      ],
      "metadata": {
        "colab": {
          "base_uri": "https://localhost:8080/"
        },
        "id": "ZFbQMnCEJlFz",
        "outputId": "5abc536b-6a39-4af0-a8d6-0a2dcfd13504"
      },
      "execution_count": 37,
      "outputs": [
        {
          "output_type": "stream",
          "name": "stderr",
          "text": [
            "/usr/local/lib/python3.10/dist-packages/gymnasium/wrappers/record_video.py:94: UserWarning: \u001b[33mWARN: Overwriting existing videos at /content/gym-results folder (try specifying a different `video_folder` for the `RecordVideo` wrapper if this is not desired)\u001b[0m\n",
            "  logger.warn(\n"
          ]
        },
        {
          "output_type": "stream",
          "name": "stdout",
          "text": [
            "Moviepy - Building video /content/gym-results/taxi-episode-0.mp4.\n",
            "Moviepy - Writing video /content/gym-results/taxi-episode-0.mp4\n",
            "\n"
          ]
        },
        {
          "output_type": "stream",
          "name": "stderr",
          "text": []
        },
        {
          "output_type": "stream",
          "name": "stdout",
          "text": [
            "Moviepy - Done !\n",
            "Moviepy - video ready /content/gym-results/taxi-episode-0.mp4\n",
            "Sample Total Reward: 8.0\n"
          ]
        }
      ]
    },
    {
      "cell_type": "code",
      "source": [
        "# play the generated video.\n",
        "from IPython.display import HTML  # Importing necessary modules for displaying HTML content\n",
        "from base64 import b64encode  # Module to encode video file into base64\n",
        "\n",
        "# Function to display a video file in the Jupyter Notebook\n",
        "def show_video(video_path, video_width = 320):\n",
        "  # Read the video file and encode it into base64\n",
        "  video_file = open(video_path, \"r+b\").read()\n",
        "  video_url = f\"data:video/mp4;base64,{b64encode(video_file).decode()}\"\n",
        "  # Return HTML code to display the video with the specified width and controls for playback\n",
        "  return HTML(f\"\"\"<video width={video_width} controls><source src=\"{video_url}\"></video>\"\"\")\n",
        "\n",
        "# Display the video located at the specified path\n",
        "show_video('./gym-results/' + res_prefix + '-episode-0.mp4')"
      ],
      "metadata": {
        "colab": {
          "base_uri": "https://localhost:8080/",
          "height": 224
        },
        "id": "A7777XloJlsP",
        "outputId": "84b3ffde-62ab-4166-a3ba-90ee2e0fb374"
      },
      "execution_count": 38,
      "outputs": [
        {
          "output_type": "execute_result",
          "data": {
            "text/plain": [
              "<IPython.core.display.HTML object>"
            ],
            "text/html": [
              "<video width=320 controls><source src=\"data:video/mp4;base64,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\"></video>"
            ]
          },
          "metadata": {},
          "execution_count": 38
        }
      ]
    },
    {
      "cell_type": "code",
      "source": [],
      "metadata": {
        "id": "qwWgvH6_Jn2J"
      },
      "execution_count": null,
      "outputs": []
    }
  ]
}